{
 "cells": [
  {
   "cell_type": "markdown",
   "id": "26e38d52",
   "metadata": {},
   "source": [
    "### Hypothesis Testing Exercises"
   ]
  },
  {
   "cell_type": "code",
   "execution_count": 133,
   "id": "a913245f",
   "metadata": {},
   "outputs": [],
   "source": [
    "import numpy as np\n",
    "import seaborn as sns\n",
    "import scipy.stats as stats\n",
    "import pandas as pd\n",
    "import matplotlib.pyplot as plt"
   ]
  },
  {
   "cell_type": "markdown",
   "id": "7f018a09",
   "metadata": {},
   "source": [
    "\n",
    "For each of the following questions, formulate a null and alternative hypothesis (be as specific as you can be), then give an example of what a true positive, true negative, type I and type II errors would look like. Note that some of the questions are intentionally phrased in a vague way. It is your job to reword these as more precise questions that could be tested.\n",
    "\n",
    "#### Has the network latency gone up since we switched internet service providers?"
   ]
  },
  {
   "cell_type": "markdown",
   "id": "06d148eb",
   "metadata": {},
   "source": [
    "Null Hypothesis: Latency has no relationship to service providers.\n",
    "Alternative Hypothesis: Latency has increased since service provider switch.\n",
    "\n",
    "True Positive: There is a lack of evidence to prove that latency has no relationship to service providers.\n",
    "True Negative: Latency indeed has no relationship to service providers.\n",
    "Type I Error: We assume latency increases because we switched service providers when there is no relationship.\n",
    "Type II Error: We assume there is no relationship between latency and service providers when there is a relationship between latency and internet providers."
   ]
  },
  {
   "cell_type": "markdown",
   "id": "9c49b465",
   "metadata": {},
   "source": []
  },
  {
   "cell_type": "markdown",
   "id": "d1e86124",
   "metadata": {},
   "source": []
  },
  {
   "cell_type": "markdown",
   "id": "1f2d8198",
   "metadata": {},
   "source": [
    "#### Is the website redesign any good?"
   ]
  },
  {
   "cell_type": "markdown",
   "id": "b27ce8ce",
   "metadata": {},
   "source": [
    "Null Hypothesis: Website redesigns bear no impact on internet traffic.\n",
    "Alternative Hypothesis: Website redesigns lead to increased internet traffic.\n",
    "\n",
    "True Positive: Website redesigns do not bear an impact on internet traffic.\n",
    "True Negative: Website redesigns do bear no impact on internet traffic.\n",
    "Type I Error: We assume website redesigns bear an impact on internet traffic when in reality they do not.\n",
    "Type II Error: We accept taht website redesigns bear no impact on internet traffic when they do."
   ]
  },
  {
   "cell_type": "markdown",
   "id": "e3cc7966",
   "metadata": {},
   "source": []
  },
  {
   "cell_type": "markdown",
   "id": "4ce2e85a",
   "metadata": {},
   "source": []
  },
  {
   "cell_type": "markdown",
   "id": "602eed51",
   "metadata": {},
   "source": [
    "#### Is our television ad driving more sales?"
   ]
  },
  {
   "cell_type": "markdown",
   "id": "d8f67f7b",
   "metadata": {},
   "source": [
    "Null Hypothesis: Television ads make no difference in driving more sales.\n",
    "Alternative Hypothesis: Television ads increase sales.\n",
    "\n",
    "True Positive: It can't be proven tat television don't make a difference in driving sales.\n",
    "True Negative: Television ads don't make a difference in driving more sales.\n",
    "Type I Error: We assume television ads make a difference in driving more sales when they don't.\n",
    "Type II Error: We assume television ads make no difference in driving sales when they don't."
   ]
  },
  {
   "cell_type": "markdown",
   "id": "99ec9f74",
   "metadata": {},
   "source": []
  },
  {
   "cell_type": "markdown",
   "id": "63fff60b",
   "metadata": {},
   "source": []
  },
  {
   "cell_type": "markdown",
   "id": "1f849af9",
   "metadata": {},
   "source": [
    "Ace Realty wants to determine whether the average time it takes to sell homes is different for its two offices. A sample of 40 sales from office #1 revealed a mean of 90 days and a standard deviation of 15 days. A sample of 50 sales from office #2 revealed a mean of 100 days and a standard deviation of 20 days. Use a .05 level of significance."
   ]
  },
  {
   "cell_type": "code",
   "execution_count": null,
   "id": "59e6b223",
   "metadata": {},
   "outputs": [],
   "source": [
    "office_one_mean = 90\n",
    "office_one_sample = 40\n",
    "office_one_std_dev = 15\n",
    "office_two_mean = 100\n",
    "office_two_sample = 50\n",
    "office_two_std_dev = 20"
   ]
  },
  {
   "cell_type": "code",
   "execution_count": null,
   "id": "a9b0bdb7",
   "metadata": {},
   "outputs": [],
   "source": [
    "\n",
    "# Visualize two distribution:\n",
    "\n",
    "x = np.arange(50,150)\n",
    "\n",
    "y1 = stats.norm(90,15).pdf(x)\n",
    "y2 = stats.norm(100,20).pdf(x)\n",
    "\n",
    "\n",
    "plt.plot(x, y1, label = 'office 1')\n",
    "plt.plot(x, y2, label = 'office 2')\n",
    "plt.axvline(90, ls = ':')\n",
    "plt.axvline(100, ls = ':', color = 'orange')\n",
    "\n",
    "plt.legend();"
   ]
  },
  {
   "cell_type": "markdown",
   "id": "b2f32338",
   "metadata": {},
   "source": [
    "**Set Hypothesis**\n",
    "\n",
    "$H_{0}$: Average time it takes to sell home is the same between office one and office two\n",
    "\n",
    "$H_{a}$: Average time it takes to sell home is not the same between office one and office two  \n",
    "\n",
    "**Set Alpha**"
   ]
  },
  {
   "cell_type": "code",
   "execution_count": null,
   "id": "fbac619a",
   "metadata": {},
   "outputs": [],
   "source": [
    "alpha = 0.05"
   ]
  },
  {
   "cell_type": "code",
   "execution_count": null,
   "id": "a6cfb9f3",
   "metadata": {},
   "outputs": [],
   "source": [
    "office_one_var = office_one_std_dev * office_one_std_dev\n",
    "office_two_var = office_two_std_dev * office_two_std_dev\n",
    "office_one_var, office_two_var"
   ]
  },
  {
   "cell_type": "code",
   "execution_count": null,
   "id": "b6f6ec6e",
   "metadata": {},
   "outputs": [],
   "source": [
    "t, p = stats.ttest_ind_from_stats(office_one_mean, office_one_std_dev, office_one_sample, office_two_mean, office_two_std_dev, office_two_sample, equal_var = False)\n",
    "\n",
    "t, p, alpha                       "
   ]
  },
  {
   "cell_type": "code",
   "execution_count": null,
   "id": "856b1215",
   "metadata": {},
   "outputs": [],
   "source": [
    "if p <  alpha:\n",
    "    print(\"We reject the null hypothesis\")\n",
    "else: \n",
    "    print(\" We fail to reject the null hypothesis\")"
   ]
  },
  {
   "cell_type": "markdown",
   "id": "92fe0d4e",
   "metadata": {},
   "source": [
    "Load the mpg dataset and use it to answer the following questions:\n",
    "\n",
    " - Is there a difference in fuel-efficiency in cars from 2008 vs 1999?"
   ]
  },
  {
   "cell_type": "code",
   "execution_count": null,
   "id": "ddf4b367",
   "metadata": {},
   "outputs": [],
   "source": [
    "from pydataset import data\n",
    "mpg = data('mpg')"
   ]
  },
  {
   "cell_type": "code",
   "execution_count": null,
   "id": "b184dfaa",
   "metadata": {},
   "outputs": [],
   "source": [
    "mpg.head()"
   ]
  },
  {
   "cell_type": "code",
   "execution_count": null,
   "id": "1a82ac67",
   "metadata": {},
   "outputs": [],
   "source": [
    "mpg.info()"
   ]
  },
  {
   "cell_type": "code",
   "execution_count": null,
   "id": "ac1af5b5",
   "metadata": {},
   "outputs": [],
   "source": [
    "mpg['avg_mpg'] = (mpg.cty + mpg.hwy)/2\n",
    "mpg.head()"
   ]
  },
  {
   "cell_type": "code",
   "execution_count": null,
   "id": "5cff8e4a",
   "metadata": {},
   "outputs": [],
   "source": [
    "cars_08 = mpg[mpg.year == 2008].avg_mpg \n",
    "cars_99 = mpg[mpg.year == 1999].avg_mpg "
   ]
  },
  {
   "cell_type": "code",
   "execution_count": null,
   "id": "1b3aa949",
   "metadata": {},
   "outputs": [],
   "source": [
    "cars_08.hist()"
   ]
  },
  {
   "cell_type": "code",
   "execution_count": null,
   "id": "f8b81b6f",
   "metadata": {},
   "outputs": [],
   "source": [
    "cars_99.hist()"
   ]
  },
  {
   "cell_type": "markdown",
   "id": "cf2058e4",
   "metadata": {},
   "source": [
    "**Hypothesis**\n",
    "\n",
    "$H_{0}$: There is no difference in fuel-efficiency in cars from 2008 vs 1999\n",
    "\n",
    "$H_{a}$: There is a difference in fuel-efficiency in cars from 2008 vs 1999\n",
    "\n",
    "**Significance Level**\n",
    "\n",
    "$\\alpha$ is already set to .05 (95% cofidence level)\n",
    "\n",
    "**Verify Assumptions**\n",
    "\n",
    "- Normal: sorta\n",
    "- Independent: yes!\n",
    "- Variance: No"
   ]
  },
  {
   "cell_type": "code",
   "execution_count": null,
   "id": "34fa7388",
   "metadata": {},
   "outputs": [],
   "source": [
    "cars_08.var(), cars_99.var()"
   ]
  },
  {
   "cell_type": "code",
   "execution_count": null,
   "id": "1d25453d",
   "metadata": {},
   "outputs": [],
   "source": [
    "t, p = stats.ttest_ind(cars_08, cars_99, equal_var = False)\n",
    "\n",
    "t, p, alpha"
   ]
  },
  {
   "cell_type": "code",
   "execution_count": null,
   "id": "b7fde927",
   "metadata": {},
   "outputs": [],
   "source": [
    "if p <  alpha:\n",
    "    print(\"We reject the null hypothesis\")\n",
    "else: \n",
    "    print(\" We fail to reject the null hypothesis\")"
   ]
  },
  {
   "cell_type": "code",
   "execution_count": null,
   "id": "402fea22",
   "metadata": {},
   "outputs": [],
   "source": [
    "cars_08.mean(), cars_99.mean()"
   ]
  },
  {
   "cell_type": "code",
   "execution_count": null,
   "id": "2ce0621e",
   "metadata": {},
   "outputs": [],
   "source": [
    "plt.hist([cars_99, cars_08], label=[\"1999 cars\", \"2008 cars\"])\n",
    "plt.legend(loc=\"upper right\");"
   ]
  },
  {
   "cell_type": "markdown",
   "id": "aba5ec42",
   "metadata": {},
   "source": [
    " - Are compact cars more fuel-efficient than the average car?"
   ]
  },
  {
   "cell_type": "code",
   "execution_count": null,
   "id": "3f906522",
   "metadata": {},
   "outputs": [],
   "source": [
    "compact_cars = mpg[mpg['class'] == 'compact'].avg_mpg"
   ]
  },
  {
   "cell_type": "code",
   "execution_count": null,
   "id": "8a6c8356",
   "metadata": {},
   "outputs": [],
   "source": [
    "avg_mpg_cars = mpg.avg_mpg"
   ]
  },
  {
   "cell_type": "code",
   "execution_count": null,
   "id": "b9fe3ebc",
   "metadata": {},
   "outputs": [],
   "source": [
    "compact_cars.mean(), avg_mpg_cars.mean()"
   ]
  },
  {
   "cell_type": "code",
   "execution_count": null,
   "id": "0626d7e6",
   "metadata": {},
   "outputs": [],
   "source": [
    "compact_cars.hist()"
   ]
  },
  {
   "cell_type": "code",
   "execution_count": null,
   "id": "1d29c054",
   "metadata": {},
   "outputs": [],
   "source": [
    "avg_mpg_cars.hist()"
   ]
  },
  {
   "cell_type": "markdown",
   "id": "9fcc0ef2",
   "metadata": {},
   "source": [
    "**Hypothesis**\n",
    "\n",
    "$H_{0}$: Average fuel efficiency in compact cars <= the average fuel efficiency of the average car\n",
    "\n",
    "$H_{a}$: Average fuel efficiency in compact cars > the average fuel efficiency of the average car\n",
    "\n",
    "**Significance Level**\n",
    "\n",
    "$\\alpha$ is already set to .05 (95% cofidence level)\n",
    "\n",
    "**Verify Assumptions**\n",
    "\n",
    "- Normal: yes\n",
    "- Independent: yes!\n",
    "- Variance: No"
   ]
  },
  {
   "cell_type": "code",
   "execution_count": null,
   "id": "bae6f833",
   "metadata": {},
   "outputs": [],
   "source": [
    "alpha = 0.05"
   ]
  },
  {
   "cell_type": "code",
   "execution_count": null,
   "id": "cc3b8dc9",
   "metadata": {},
   "outputs": [],
   "source": [
    "compact_cars.var(), avg_mpg_cars.var()"
   ]
  },
  {
   "cell_type": "code",
   "execution_count": null,
   "id": "8fd882f1",
   "metadata": {},
   "outputs": [],
   "source": [
    "t, p = stats.ttest_1samp(compact_cars, avg_mpg_cars.mean())\n",
    "\n",
    "t, p/2, alpha"
   ]
  },
  {
   "cell_type": "code",
   "execution_count": null,
   "id": "0e25111d",
   "metadata": {},
   "outputs": [],
   "source": [
    "if (p/2 < alpha) & (t > 0):\n",
    "    print(\"We reject the null hypothesis\")\n",
    "else:\n",
    "    print(\"We fail to reject the null hypothesis\")"
   ]
  },
  {
   "cell_type": "markdown",
   "id": "dea2371f",
   "metadata": {},
   "source": [
    " - Do manual cars get better gas mileage than automatic cars?"
   ]
  },
  {
   "cell_type": "code",
   "execution_count": null,
   "id": "d397dafe",
   "metadata": {},
   "outputs": [],
   "source": [
    "mpg.head(1)"
   ]
  },
  {
   "cell_type": "code",
   "execution_count": null,
   "id": "c79fcb05",
   "metadata": {},
   "outputs": [],
   "source": [
    "mpg['is_automatic'] = mpg.trans.str.contains('auto')\n",
    "mpg.head(2)"
   ]
  },
  {
   "cell_type": "code",
   "execution_count": null,
   "id": "7d9c7991",
   "metadata": {},
   "outputs": [],
   "source": [
    "auto = mpg[mpg['is_automatic'] == True].avg_mpg\n",
    "manual = mpg[mpg['is_automatic'] == False].avg_mpg"
   ]
  },
  {
   "cell_type": "code",
   "execution_count": null,
   "id": "72135760",
   "metadata": {},
   "outputs": [],
   "source": [
    "auto.hist()"
   ]
  },
  {
   "cell_type": "code",
   "execution_count": null,
   "id": "bb72fa65",
   "metadata": {},
   "outputs": [],
   "source": [
    "manual.hist()"
   ]
  },
  {
   "cell_type": "markdown",
   "id": "b1b3af4e",
   "metadata": {},
   "source": [
    "**Hypothesis**\n",
    "\n",
    "$H_{0}$: Manual cars gas mileage is <= automatic cars gas mileage\n",
    "\n",
    "$H_{a}$: Manual cars gas mileage > automatic cars gas mileage\n",
    "\n",
    "**Significance Level**\n",
    "\n",
    "$\\alpha$ is already set to .05 (95% cofidence level)\n",
    "\n",
    "**Verify Assumptions**\n",
    "\n",
    "- Normal: yes\n",
    "- Independent: yes!\n",
    "- Variance: No"
   ]
  },
  {
   "cell_type": "code",
   "execution_count": null,
   "id": "9b2d1880",
   "metadata": {},
   "outputs": [],
   "source": [
    "alpha = 0.05"
   ]
  },
  {
   "cell_type": "code",
   "execution_count": null,
   "id": "095aec5f",
   "metadata": {},
   "outputs": [],
   "source": [
    "auto.var(), manual.var()"
   ]
  },
  {
   "cell_type": "code",
   "execution_count": null,
   "id": "db45ef44",
   "metadata": {},
   "outputs": [],
   "source": [
    "t, p = stats.ttest_ind(manual, auto, equal_var = False)\n",
    "\n",
    "t, p/2, alpha"
   ]
  },
  {
   "cell_type": "code",
   "execution_count": null,
   "id": "defa96e2",
   "metadata": {},
   "outputs": [],
   "source": [
    "print(\"is p/2 < alpha? \", p/2 < alpha)\n",
    "print(\"is t > 0? \", t > 0)\n",
    "if (p/2 < alpha) & (t > 0):\n",
    "    print(\"We reject the null hypothesis\")\n",
    "else:\n",
    "    print(\"We fail to reject the null hypothesis\")"
   ]
  },
  {
   "cell_type": "code",
   "execution_count": null,
   "id": "c82e4d74",
   "metadata": {},
   "outputs": [],
   "source": [
    "auto.mean(), manual.mean()"
   ]
  },
  {
   "cell_type": "markdown",
   "id": "83f7261f",
   "metadata": {},
   "source": [
    "### Correlation Exercises"
   ]
  },
  {
   "cell_type": "markdown",
   "id": "ae8ff610",
   "metadata": {},
   "source": [
    "Use the telco_churn data."
   ]
  },
  {
   "cell_type": "code",
   "execution_count": 55,
   "id": "37bc98cd",
   "metadata": {},
   "outputs": [],
   "source": [
    "telco = pd.read_csv(\"telco_churn.csv\")"
   ]
  },
  {
   "cell_type": "code",
   "execution_count": 49,
   "id": "abe12d6a",
   "metadata": {},
   "outputs": [
    {
     "data": {
      "text/html": [
       "<div>\n",
       "<style scoped>\n",
       "    .dataframe tbody tr th:only-of-type {\n",
       "        vertical-align: middle;\n",
       "    }\n",
       "\n",
       "    .dataframe tbody tr th {\n",
       "        vertical-align: top;\n",
       "    }\n",
       "\n",
       "    .dataframe thead th {\n",
       "        text-align: right;\n",
       "    }\n",
       "</style>\n",
       "<table border=\"1\" class=\"dataframe\">\n",
       "  <thead>\n",
       "    <tr style=\"text-align: right;\">\n",
       "      <th></th>\n",
       "      <th>customerID</th>\n",
       "      <th>gender</th>\n",
       "      <th>SeniorCitizen</th>\n",
       "      <th>Partner</th>\n",
       "      <th>Dependents</th>\n",
       "      <th>tenure</th>\n",
       "      <th>PhoneService</th>\n",
       "      <th>MultipleLines</th>\n",
       "      <th>InternetService</th>\n",
       "      <th>OnlineSecurity</th>\n",
       "      <th>...</th>\n",
       "      <th>DeviceProtection</th>\n",
       "      <th>TechSupport</th>\n",
       "      <th>StreamingTV</th>\n",
       "      <th>StreamingMovies</th>\n",
       "      <th>Contract</th>\n",
       "      <th>PaperlessBilling</th>\n",
       "      <th>PaymentMethod</th>\n",
       "      <th>MonthlyCharges</th>\n",
       "      <th>TotalCharges</th>\n",
       "      <th>Churn</th>\n",
       "    </tr>\n",
       "  </thead>\n",
       "  <tbody>\n",
       "    <tr>\n",
       "      <th>0</th>\n",
       "      <td>7590-VHVEG</td>\n",
       "      <td>Female</td>\n",
       "      <td>0</td>\n",
       "      <td>Yes</td>\n",
       "      <td>No</td>\n",
       "      <td>1</td>\n",
       "      <td>No</td>\n",
       "      <td>No phone service</td>\n",
       "      <td>DSL</td>\n",
       "      <td>No</td>\n",
       "      <td>...</td>\n",
       "      <td>No</td>\n",
       "      <td>No</td>\n",
       "      <td>No</td>\n",
       "      <td>No</td>\n",
       "      <td>Month-to-month</td>\n",
       "      <td>Yes</td>\n",
       "      <td>Electronic check</td>\n",
       "      <td>29.85</td>\n",
       "      <td>29.85</td>\n",
       "      <td>No</td>\n",
       "    </tr>\n",
       "    <tr>\n",
       "      <th>1</th>\n",
       "      <td>5575-GNVDE</td>\n",
       "      <td>Male</td>\n",
       "      <td>0</td>\n",
       "      <td>No</td>\n",
       "      <td>No</td>\n",
       "      <td>34</td>\n",
       "      <td>Yes</td>\n",
       "      <td>No</td>\n",
       "      <td>DSL</td>\n",
       "      <td>Yes</td>\n",
       "      <td>...</td>\n",
       "      <td>Yes</td>\n",
       "      <td>No</td>\n",
       "      <td>No</td>\n",
       "      <td>No</td>\n",
       "      <td>One year</td>\n",
       "      <td>No</td>\n",
       "      <td>Mailed check</td>\n",
       "      <td>56.95</td>\n",
       "      <td>1889.5</td>\n",
       "      <td>No</td>\n",
       "    </tr>\n",
       "  </tbody>\n",
       "</table>\n",
       "<p>2 rows × 21 columns</p>\n",
       "</div>"
      ],
      "text/plain": [
       "   customerID  gender  SeniorCitizen Partner Dependents  tenure PhoneService  \\\n",
       "0  7590-VHVEG  Female              0     Yes         No       1           No   \n",
       "1  5575-GNVDE    Male              0      No         No      34          Yes   \n",
       "\n",
       "      MultipleLines InternetService OnlineSecurity  ... DeviceProtection  \\\n",
       "0  No phone service             DSL             No  ...               No   \n",
       "1                No             DSL            Yes  ...              Yes   \n",
       "\n",
       "  TechSupport StreamingTV StreamingMovies        Contract PaperlessBilling  \\\n",
       "0          No          No              No  Month-to-month              Yes   \n",
       "1          No          No              No        One year               No   \n",
       "\n",
       "      PaymentMethod MonthlyCharges  TotalCharges Churn  \n",
       "0  Electronic check          29.85         29.85    No  \n",
       "1      Mailed check          56.95        1889.5    No  \n",
       "\n",
       "[2 rows x 21 columns]"
      ]
     },
     "execution_count": 49,
     "metadata": {},
     "output_type": "execute_result"
    }
   ],
   "source": [
    "telco.head(2)"
   ]
  },
  {
   "cell_type": "code",
   "execution_count": 79,
   "id": "26d36115",
   "metadata": {},
   "outputs": [
    {
     "name": "stdout",
     "output_type": "stream",
     "text": [
      "<class 'pandas.core.frame.DataFrame'>\n",
      "RangeIndex: 7043 entries, 0 to 7042\n",
      "Data columns (total 21 columns):\n",
      " #   Column            Non-Null Count  Dtype  \n",
      "---  ------            --------------  -----  \n",
      " 0   customerID        7043 non-null   object \n",
      " 1   gender            7043 non-null   object \n",
      " 2   SeniorCitizen     7043 non-null   int64  \n",
      " 3   Partner           7043 non-null   object \n",
      " 4   Dependents        7043 non-null   object \n",
      " 5   tenure            7043 non-null   int64  \n",
      " 6   PhoneService      7043 non-null   object \n",
      " 7   MultipleLines     7043 non-null   object \n",
      " 8   InternetService   7043 non-null   object \n",
      " 9   OnlineSecurity    7043 non-null   object \n",
      " 10  OnlineBackup      7043 non-null   object \n",
      " 11  DeviceProtection  7043 non-null   object \n",
      " 12  TechSupport       7043 non-null   object \n",
      " 13  StreamingTV       7043 non-null   object \n",
      " 14  StreamingMovies   7043 non-null   object \n",
      " 15  Contract          7043 non-null   object \n",
      " 16  PaperlessBilling  7043 non-null   object \n",
      " 17  PaymentMethod     7043 non-null   object \n",
      " 18  MonthlyCharges    7043 non-null   float64\n",
      " 19  TotalCharges      7043 non-null   object \n",
      " 20  Churn             7043 non-null   object \n",
      "dtypes: float64(1), int64(2), object(18)\n",
      "memory usage: 1.1+ MB\n"
     ]
    }
   ],
   "source": [
    "telco.info()"
   ]
  },
  {
   "cell_type": "markdown",
   "id": "3e5d6ee5",
   "metadata": {},
   "source": [
    "Does tenure correlate with monthly charges? "
   ]
  },
  {
   "cell_type": "code",
   "execution_count": 134,
   "id": "0e53fd3e",
   "metadata": {},
   "outputs": [
    {
     "data": {
      "text/plain": [
       "(0.24789985628615008, 4.0940449915016345e-99)"
      ]
     },
     "execution_count": 134,
     "metadata": {},
     "output_type": "execute_result"
    }
   ],
   "source": [
    "monthly_charges = telco['MonthlyCharges']\n",
    "tenure = telco['tenure']\n",
    "\n",
    "corr, p = stats.pearsonr(tenure, monthly_charges)\n",
    "\n",
    "corr, p"
   ]
  },
  {
   "cell_type": "markdown",
   "id": "9efd578d",
   "metadata": {},
   "source": [
    "Does tenure correlate with total charges?"
   ]
  },
  {
   "cell_type": "code",
   "execution_count": 137,
   "id": "d11c0c9a",
   "metadata": {},
   "outputs": [
    {
     "name": "stdout",
     "output_type": "stream",
     "text": [
      "<class 'pandas.core.frame.DataFrame'>\n",
      "Int64Index: 7043 entries, 0 to 7042\n",
      "Data columns (total 21 columns):\n",
      " #   Column            Non-Null Count  Dtype  \n",
      "---  ------            --------------  -----  \n",
      " 0   customerID        7043 non-null   object \n",
      " 1   gender            7043 non-null   object \n",
      " 2   SeniorCitizen     7043 non-null   int64  \n",
      " 3   Partner           7043 non-null   object \n",
      " 4   Dependents        7043 non-null   object \n",
      " 5   tenure            7043 non-null   int64  \n",
      " 6   PhoneService      7043 non-null   object \n",
      " 7   MultipleLines     7043 non-null   object \n",
      " 8   InternetService   7043 non-null   object \n",
      " 9   OnlineSecurity    7043 non-null   object \n",
      " 10  OnlineBackup      7043 non-null   object \n",
      " 11  DeviceProtection  7043 non-null   object \n",
      " 12  TechSupport       7043 non-null   object \n",
      " 13  StreamingTV       7043 non-null   object \n",
      " 14  StreamingMovies   7043 non-null   object \n",
      " 15  Contract          7043 non-null   object \n",
      " 16  PaperlessBilling  7043 non-null   object \n",
      " 17  PaymentMethod     7043 non-null   object \n",
      " 18  MonthlyCharges    7043 non-null   float64\n",
      " 19  TotalCharges      7043 non-null   float64\n",
      " 20  Churn             7043 non-null   object \n",
      "dtypes: float64(2), int64(2), object(17)\n",
      "memory usage: 1.2+ MB\n"
     ]
    }
   ],
   "source": [
    "telco.TotalCharges = telco.TotalCharges.str.strip()\n",
    "\n",
    "telco = telco[telco.TotalCharges != \"\"]\n",
    "\n",
    "telco.TotalCharges = telco.TotalCharges.astype(float)\n",
    "telco.info()"
   ]
  },
  {
   "cell_type": "code",
   "execution_count": 138,
   "id": "7bae415a",
   "metadata": {},
   "outputs": [
    {
     "data": {
      "text/plain": [
       "(0.8261783979502422, 0.0)"
      ]
     },
     "execution_count": 138,
     "metadata": {},
     "output_type": "execute_result"
    }
   ],
   "source": [
    "corr, p = stats.pearsonr(telco.TotalCharges.astype(float), telco.tenure)\n",
    "\n",
    "corr, p"
   ]
  },
  {
   "cell_type": "markdown",
   "id": "8fbb43f2",
   "metadata": {},
   "source": [
    "What happens if you control for phone and internet service?"
   ]
  },
  {
   "cell_type": "code",
   "execution_count": 147,
   "id": "87173e57",
   "metadata": {},
   "outputs": [
    {
     "data": {
      "text/html": [
       "<div>\n",
       "<style scoped>\n",
       "    .dataframe tbody tr th:only-of-type {\n",
       "        vertical-align: middle;\n",
       "    }\n",
       "\n",
       "    .dataframe tbody tr th {\n",
       "        vertical-align: top;\n",
       "    }\n",
       "\n",
       "    .dataframe thead th {\n",
       "        text-align: right;\n",
       "    }\n",
       "</style>\n",
       "<table border=\"1\" class=\"dataframe\">\n",
       "  <thead>\n",
       "    <tr style=\"text-align: right;\">\n",
       "      <th>id</th>\n",
       "      <th>0</th>\n",
       "      <th>1</th>\n",
       "    </tr>\n",
       "  </thead>\n",
       "  <tbody>\n",
       "    <tr>\n",
       "      <th>customer_id</th>\n",
       "      <td>0002-ORFBO</td>\n",
       "      <td>0003-MKNFE</td>\n",
       "    </tr>\n",
       "    <tr>\n",
       "      <th>gender</th>\n",
       "      <td>Female</td>\n",
       "      <td>Male</td>\n",
       "    </tr>\n",
       "    <tr>\n",
       "      <th>is_senior_citizen</th>\n",
       "      <td>0</td>\n",
       "      <td>0</td>\n",
       "    </tr>\n",
       "    <tr>\n",
       "      <th>partner</th>\n",
       "      <td>Yes</td>\n",
       "      <td>No</td>\n",
       "    </tr>\n",
       "    <tr>\n",
       "      <th>dependents</th>\n",
       "      <td>Yes</td>\n",
       "      <td>No</td>\n",
       "    </tr>\n",
       "    <tr>\n",
       "      <th>phone_service</th>\n",
       "      <td>1</td>\n",
       "      <td>2</td>\n",
       "    </tr>\n",
       "    <tr>\n",
       "      <th>internet_service</th>\n",
       "      <td>1</td>\n",
       "      <td>1</td>\n",
       "    </tr>\n",
       "    <tr>\n",
       "      <th>contract_int</th>\n",
       "      <td>1</td>\n",
       "      <td>0</td>\n",
       "    </tr>\n",
       "    <tr>\n",
       "      <th>payment_type</th>\n",
       "      <td>Mailed check</td>\n",
       "      <td>Mailed check</td>\n",
       "    </tr>\n",
       "    <tr>\n",
       "      <th>monthly_charges</th>\n",
       "      <td>65.6</td>\n",
       "      <td>59.9</td>\n",
       "    </tr>\n",
       "    <tr>\n",
       "      <th>total_charges</th>\n",
       "      <td>593.3</td>\n",
       "      <td>542.4</td>\n",
       "    </tr>\n",
       "    <tr>\n",
       "      <th>churn</th>\n",
       "      <td>No</td>\n",
       "      <td>No</td>\n",
       "    </tr>\n",
       "    <tr>\n",
       "      <th>tenure_month</th>\n",
       "      <td>9.0</td>\n",
       "      <td>9.1</td>\n",
       "    </tr>\n",
       "    <tr>\n",
       "      <th>has_churned</th>\n",
       "      <td>False</td>\n",
       "      <td>False</td>\n",
       "    </tr>\n",
       "    <tr>\n",
       "      <th>has_phone</th>\n",
       "      <td>True</td>\n",
       "      <td>True</td>\n",
       "    </tr>\n",
       "    <tr>\n",
       "      <th>has_internet</th>\n",
       "      <td>True</td>\n",
       "      <td>True</td>\n",
       "    </tr>\n",
       "    <tr>\n",
       "      <th>has_internet_and_phone</th>\n",
       "      <td>True</td>\n",
       "      <td>True</td>\n",
       "    </tr>\n",
       "    <tr>\n",
       "      <th>partner_dependents</th>\n",
       "      <td>3</td>\n",
       "      <td>0</td>\n",
       "    </tr>\n",
       "    <tr>\n",
       "      <th>start_day</th>\n",
       "      <td>2020-05-03</td>\n",
       "      <td>2020-05-03</td>\n",
       "    </tr>\n",
       "    <tr>\n",
       "      <th>phone_type</th>\n",
       "      <td>One Line</td>\n",
       "      <td>Two or More Lines</td>\n",
       "    </tr>\n",
       "    <tr>\n",
       "      <th>internet_type</th>\n",
       "      <td>DSL</td>\n",
       "      <td>DSL</td>\n",
       "    </tr>\n",
       "    <tr>\n",
       "      <th>contract_type</th>\n",
       "      <td>1 Year</td>\n",
       "      <td>Month-to-Month</td>\n",
       "    </tr>\n",
       "  </tbody>\n",
       "</table>\n",
       "</div>"
      ],
      "text/plain": [
       "id                                 0                  1\n",
       "customer_id               0002-ORFBO         0003-MKNFE\n",
       "gender                        Female               Male\n",
       "is_senior_citizen                  0                  0\n",
       "partner                          Yes                 No\n",
       "dependents                       Yes                 No\n",
       "phone_service                      1                  2\n",
       "internet_service                   1                  1\n",
       "contract_int                       1                  0\n",
       "payment_type            Mailed check       Mailed check\n",
       "monthly_charges                 65.6               59.9\n",
       "total_charges                  593.3              542.4\n",
       "churn                             No                 No\n",
       "tenure_month                     9.0                9.1\n",
       "has_churned                    False              False\n",
       "has_phone                       True               True\n",
       "has_internet                    True               True\n",
       "has_internet_and_phone          True               True\n",
       "partner_dependents                 3                  0\n",
       "start_day                 2020-05-03         2020-05-03\n",
       "phone_type                  One Line  Two or More Lines\n",
       "internet_type                    DSL                DSL\n",
       "contract_type                 1 Year     Month-to-Month"
      ]
     },
     "execution_count": 147,
     "metadata": {},
     "output_type": "execute_result"
    }
   ],
   "source": [
    "url = \"https://gist.githubusercontent.com/ryanorsinger/3fce5a65b5fb8ab728af5192c7de857e/raw/a0422b7b73749842611742a1064e99088a47917d/clean_telco.csv\"\n",
    "telco_II = pd.read_csv(url, index_col=\"id\")\n",
    "telco_II.head(2).T"
   ]
  },
  {
   "cell_type": "code",
   "execution_count": 148,
   "id": "fc8af67d",
   "metadata": {},
   "outputs": [
    {
     "name": "stdout",
     "output_type": "stream",
     "text": [
      "<class 'pandas.core.frame.DataFrame'>\n",
      "Int64Index: 7032 entries, 0 to 7042\n",
      "Data columns (total 22 columns):\n",
      " #   Column                  Non-Null Count  Dtype  \n",
      "---  ------                  --------------  -----  \n",
      " 0   customer_id             7032 non-null   object \n",
      " 1   gender                  7032 non-null   object \n",
      " 2   is_senior_citizen       7032 non-null   int64  \n",
      " 3   partner                 7032 non-null   object \n",
      " 4   dependents              7032 non-null   object \n",
      " 5   phone_service           7032 non-null   int64  \n",
      " 6   internet_service        7032 non-null   int64  \n",
      " 7   contract_int            7032 non-null   int64  \n",
      " 8   payment_type            7032 non-null   object \n",
      " 9   monthly_charges         7032 non-null   float64\n",
      " 10  total_charges           7032 non-null   float64\n",
      " 11  churn                   7032 non-null   object \n",
      " 12  tenure_month            7032 non-null   float64\n",
      " 13  has_churned             7032 non-null   bool   \n",
      " 14  has_phone               7032 non-null   bool   \n",
      " 15  has_internet            7032 non-null   bool   \n",
      " 16  has_internet_and_phone  7032 non-null   bool   \n",
      " 17  partner_dependents      7032 non-null   int64  \n",
      " 18  start_day               7032 non-null   object \n",
      " 19  phone_type              7032 non-null   object \n",
      " 20  internet_type           7032 non-null   object \n",
      " 21  contract_type           7032 non-null   object \n",
      "dtypes: bool(4), float64(3), int64(5), object(10)\n",
      "memory usage: 1.0+ MB\n"
     ]
    }
   ],
   "source": [
    "telco_II.info()"
   ]
  },
  {
   "cell_type": "code",
   "execution_count": 153,
   "id": "865ee467",
   "metadata": {},
   "outputs": [
    {
     "data": {
      "text/plain": [
       "Fiber Optic Two or More Lines            1937\n",
       "No Internet Service One Line             1182\n",
       "Fiber Optic One Line                     1160\n",
       "DSL One Line                             1044\n",
       "DSL Two or More Lines                     689\n",
       "DSL No Phone Service                      680\n",
       "No Internet Service Two or More Lines     340\n",
       "Name: telecom_setup, dtype: int64"
      ]
     },
     "execution_count": 153,
     "metadata": {},
     "output_type": "execute_result"
    }
   ],
   "source": [
    "telco_II[\"telecom_setup\"] = telco_II.internet_type + \" \" + telco_II.phone_type\n",
    "telco_II.telecom_setup.value_counts()"
   ]
  },
  {
   "cell_type": "code",
   "execution_count": 154,
   "id": "92f606a1",
   "metadata": {},
   "outputs": [
    {
     "data": {
      "text/plain": [
       "Index(['Fiber Optic Two or More Lines', 'No Internet Service One Line',\n",
       "       'Fiber Optic One Line', 'DSL One Line', 'DSL Two or More Lines',\n",
       "       'DSL No Phone Service', 'No Internet Service Two or More Lines'],\n",
       "      dtype='object')"
      ]
     },
     "execution_count": 154,
     "metadata": {},
     "output_type": "execute_result"
    }
   ],
   "source": [
    "options = telco_II.telecom_setup.value_counts().index\n",
    "options"
   ]
  },
  {
   "cell_type": "code",
   "execution_count": null,
   "id": "00ed9dc4",
   "metadata": {},
   "outputs": [],
   "source": []
  },
  {
   "cell_type": "code",
   "execution_count": null,
   "id": "91e02431",
   "metadata": {},
   "outputs": [],
   "source": []
  },
  {
   "cell_type": "markdown",
   "id": "9332fe3e",
   "metadata": {},
   "source": [
    "Use the employees database.\n",
    "\n",
    " - Is there a relationship between how long an employee has been with the company and their salary?"
   ]
  },
  {
   "cell_type": "code",
   "execution_count": 143,
   "id": "6757724e",
   "metadata": {},
   "outputs": [
    {
     "data": {
      "text/html": [
       "<div>\n",
       "<style scoped>\n",
       "    .dataframe tbody tr th:only-of-type {\n",
       "        vertical-align: middle;\n",
       "    }\n",
       "\n",
       "    .dataframe tbody tr th {\n",
       "        vertical-align: top;\n",
       "    }\n",
       "\n",
       "    .dataframe thead th {\n",
       "        text-align: right;\n",
       "    }\n",
       "</style>\n",
       "<table border=\"1\" class=\"dataframe\">\n",
       "  <thead>\n",
       "    <tr style=\"text-align: right;\">\n",
       "      <th></th>\n",
       "      <th>emp_no</th>\n",
       "      <th>salary</th>\n",
       "      <th>hire_date</th>\n",
       "      <th>to_date</th>\n",
       "      <th>days_on_job</th>\n",
       "    </tr>\n",
       "  </thead>\n",
       "  <tbody>\n",
       "    <tr>\n",
       "      <th>0</th>\n",
       "      <td>10001</td>\n",
       "      <td>88958</td>\n",
       "      <td>1986-06-26</td>\n",
       "      <td>9999-01-01</td>\n",
       "      <td>12919</td>\n",
       "    </tr>\n",
       "    <tr>\n",
       "      <th>1</th>\n",
       "      <td>10002</td>\n",
       "      <td>72527</td>\n",
       "      <td>1985-11-21</td>\n",
       "      <td>9999-01-01</td>\n",
       "      <td>13136</td>\n",
       "    </tr>\n",
       "    <tr>\n",
       "      <th>2</th>\n",
       "      <td>10003</td>\n",
       "      <td>43311</td>\n",
       "      <td>1986-08-28</td>\n",
       "      <td>9999-01-01</td>\n",
       "      <td>12856</td>\n",
       "    </tr>\n",
       "    <tr>\n",
       "      <th>3</th>\n",
       "      <td>10004</td>\n",
       "      <td>74057</td>\n",
       "      <td>1986-12-01</td>\n",
       "      <td>9999-01-01</td>\n",
       "      <td>12761</td>\n",
       "    </tr>\n",
       "    <tr>\n",
       "      <th>4</th>\n",
       "      <td>10005</td>\n",
       "      <td>94692</td>\n",
       "      <td>1989-09-12</td>\n",
       "      <td>9999-01-01</td>\n",
       "      <td>11745</td>\n",
       "    </tr>\n",
       "  </tbody>\n",
       "</table>\n",
       "</div>"
      ],
      "text/plain": [
       "   emp_no  salary   hire_date     to_date  days_on_job\n",
       "0   10001   88958  1986-06-26  9999-01-01        12919\n",
       "1   10002   72527  1985-11-21  9999-01-01        13136\n",
       "2   10003   43311  1986-08-28  9999-01-01        12856\n",
       "3   10004   74057  1986-12-01  9999-01-01        12761\n",
       "4   10005   94692  1989-09-12  9999-01-01        11745"
      ]
     },
     "execution_count": 143,
     "metadata": {},
     "output_type": "execute_result"
    }
   ],
   "source": [
    "def get_db_url(db_name):\n",
    "    from env import user, host, password\n",
    "    return f'mysql+pymysql://{user}:{password}@{host}/{db_name}'\n",
    "    \n",
    "\n",
    "url = get_db_url('employees')\n",
    "sql = \"\"\"\n",
    "SELECT emp_no, MAX(salary) AS salary, employees.hire_date, MAX(to_date) as to_date, DATEDIFF(curdate(), hire_date) as days_on_job\n",
    "FROM salaries\n",
    "JOIN employees.employees USING(emp_no)\n",
    "WHERE to_date > curdate()\n",
    "GROUP BY emp_no;\n",
    "\"\"\"\n",
    "salaries = pd.read_sql(sql, url)\n",
    "salaries.head()"
   ]
  },
  {
   "cell_type": "code",
   "execution_count": 144,
   "id": "f36b9a78",
   "metadata": {},
   "outputs": [
    {
     "name": "stdout",
     "output_type": "stream",
     "text": [
      "<class 'pandas.core.frame.DataFrame'>\n",
      "RangeIndex: 240124 entries, 0 to 240123\n",
      "Data columns (total 5 columns):\n",
      " #   Column       Non-Null Count   Dtype \n",
      "---  ------       --------------   ----- \n",
      " 0   emp_no       240124 non-null  int64 \n",
      " 1   salary       240124 non-null  int64 \n",
      " 2   hire_date    240124 non-null  object\n",
      " 3   to_date      240124 non-null  object\n",
      " 4   days_on_job  240124 non-null  int64 \n",
      "dtypes: int64(3), object(2)\n",
      "memory usage: 9.2+ MB\n"
     ]
    }
   ],
   "source": [
    "salaries.info()"
   ]
  },
  {
   "cell_type": "code",
   "execution_count": 140,
   "id": "4d03b78c",
   "metadata": {},
   "outputs": [
    {
     "data": {
      "text/html": [
       "<div>\n",
       "<style scoped>\n",
       "    .dataframe tbody tr th:only-of-type {\n",
       "        vertical-align: middle;\n",
       "    }\n",
       "\n",
       "    .dataframe tbody tr th {\n",
       "        vertical-align: top;\n",
       "    }\n",
       "\n",
       "    .dataframe thead th {\n",
       "        text-align: right;\n",
       "    }\n",
       "</style>\n",
       "<table border=\"1\" class=\"dataframe\">\n",
       "  <thead>\n",
       "    <tr style=\"text-align: right;\">\n",
       "      <th></th>\n",
       "      <th>emp_no</th>\n",
       "      <th>salary</th>\n",
       "      <th>days_on_job</th>\n",
       "    </tr>\n",
       "  </thead>\n",
       "  <tbody>\n",
       "    <tr>\n",
       "      <th>count</th>\n",
       "      <td>300024.000000</td>\n",
       "      <td>300024.000000</td>\n",
       "      <td>300024.000000</td>\n",
       "    </tr>\n",
       "    <tr>\n",
       "      <th>mean</th>\n",
       "      <td>253321.763392</td>\n",
       "      <td>69956.894662</td>\n",
       "      <td>11606.264579</td>\n",
       "    </tr>\n",
       "    <tr>\n",
       "      <th>std</th>\n",
       "      <td>161828.235540</td>\n",
       "      <td>17636.264198</td>\n",
       "      <td>1286.807004</td>\n",
       "    </tr>\n",
       "    <tr>\n",
       "      <th>min</th>\n",
       "      <td>10001.000000</td>\n",
       "      <td>40000.000000</td>\n",
       "      <td>7955.000000</td>\n",
       "    </tr>\n",
       "    <tr>\n",
       "      <th>25%</th>\n",
       "      <td>85006.750000</td>\n",
       "      <td>56634.000000</td>\n",
       "      <td>10693.000000</td>\n",
       "    </tr>\n",
       "    <tr>\n",
       "      <th>50%</th>\n",
       "      <td>249987.500000</td>\n",
       "      <td>67897.000000</td>\n",
       "      <td>11829.000000</td>\n",
       "    </tr>\n",
       "    <tr>\n",
       "      <th>75%</th>\n",
       "      <td>424993.250000</td>\n",
       "      <td>80757.000000</td>\n",
       "      <td>12692.000000</td>\n",
       "    </tr>\n",
       "    <tr>\n",
       "      <th>max</th>\n",
       "      <td>499999.000000</td>\n",
       "      <td>158220.000000</td>\n",
       "      <td>13460.000000</td>\n",
       "    </tr>\n",
       "  </tbody>\n",
       "</table>\n",
       "</div>"
      ],
      "text/plain": [
       "              emp_no         salary    days_on_job\n",
       "count  300024.000000  300024.000000  300024.000000\n",
       "mean   253321.763392   69956.894662   11606.264579\n",
       "std    161828.235540   17636.264198    1286.807004\n",
       "min     10001.000000   40000.000000    7955.000000\n",
       "25%     85006.750000   56634.000000   10693.000000\n",
       "50%    249987.500000   67897.000000   11829.000000\n",
       "75%    424993.250000   80757.000000   12692.000000\n",
       "max    499999.000000  158220.000000   13460.000000"
      ]
     },
     "execution_count": 140,
     "metadata": {},
     "output_type": "execute_result"
    }
   ],
   "source": [
    "salaries.describe()"
   ]
  },
  {
   "cell_type": "code",
   "execution_count": 142,
   "id": "4c3c04c7",
   "metadata": {},
   "outputs": [
    {
     "data": {
      "text/plain": [
       "(0.26901210253309515, 0.0)"
      ]
     },
     "execution_count": 142,
     "metadata": {},
     "output_type": "execute_result"
    }
   ],
   "source": [
    "corr, p = stats.pearsonr(salaries.days_on_job, salaries.salary)\n",
    "\n",
    "corr, p"
   ]
  },
  {
   "cell_type": "code",
   "execution_count": null,
   "id": "18a825ed",
   "metadata": {},
   "outputs": [],
   "source": []
  },
  {
   "cell_type": "code",
   "execution_count": null,
   "id": "bfc8544b",
   "metadata": {},
   "outputs": [],
   "source": []
  },
  {
   "cell_type": "markdown",
   "id": "62ffbbaf",
   "metadata": {},
   "source": [
    " - Is there a relationship between how long an employee has been with the company and the number of titles they have had?"
   ]
  },
  {
   "cell_type": "code",
   "execution_count": 157,
   "id": "a4774123",
   "metadata": {},
   "outputs": [],
   "source": [
    "def get_db_url(db_name):\n",
    "    from env import user, host, password\n",
    "    return f'mysql+pymysql://{user}:{password}@{host}/{db_name}'\n",
    "    \n",
    "url = get_db_url('employees')\n",
    "sql = \"\"\"\n",
    "SELECT emp_no, COUNT(title) as title_count, DATEDIFF(curdate(), hire_date) as days_on_job\n",
    "FROM employees\n",
    "JOIN titles USING(emp_no)\n",
    "GROUP BY emp_no;\n",
    "\"\"\""
   ]
  },
  {
   "cell_type": "code",
   "execution_count": 158,
   "id": "d01f6868",
   "metadata": {},
   "outputs": [
    {
     "data": {
      "text/html": [
       "<div>\n",
       "<style scoped>\n",
       "    .dataframe tbody tr th:only-of-type {\n",
       "        vertical-align: middle;\n",
       "    }\n",
       "\n",
       "    .dataframe tbody tr th {\n",
       "        vertical-align: top;\n",
       "    }\n",
       "\n",
       "    .dataframe thead th {\n",
       "        text-align: right;\n",
       "    }\n",
       "</style>\n",
       "<table border=\"1\" class=\"dataframe\">\n",
       "  <thead>\n",
       "    <tr style=\"text-align: right;\">\n",
       "      <th></th>\n",
       "      <th>emp_no</th>\n",
       "      <th>title_count</th>\n",
       "      <th>days_on_job</th>\n",
       "    </tr>\n",
       "  </thead>\n",
       "  <tbody>\n",
       "    <tr>\n",
       "      <th>0</th>\n",
       "      <td>10001</td>\n",
       "      <td>1</td>\n",
       "      <td>12919</td>\n",
       "    </tr>\n",
       "    <tr>\n",
       "      <th>1</th>\n",
       "      <td>10002</td>\n",
       "      <td>1</td>\n",
       "      <td>13136</td>\n",
       "    </tr>\n",
       "    <tr>\n",
       "      <th>2</th>\n",
       "      <td>10003</td>\n",
       "      <td>1</td>\n",
       "      <td>12856</td>\n",
       "    </tr>\n",
       "    <tr>\n",
       "      <th>3</th>\n",
       "      <td>10004</td>\n",
       "      <td>2</td>\n",
       "      <td>12761</td>\n",
       "    </tr>\n",
       "    <tr>\n",
       "      <th>4</th>\n",
       "      <td>10005</td>\n",
       "      <td>2</td>\n",
       "      <td>11745</td>\n",
       "    </tr>\n",
       "  </tbody>\n",
       "</table>\n",
       "</div>"
      ],
      "text/plain": [
       "   emp_no  title_count  days_on_job\n",
       "0   10001            1        12919\n",
       "1   10002            1        13136\n",
       "2   10003            1        12856\n",
       "3   10004            2        12761\n",
       "4   10005            2        11745"
      ]
     },
     "execution_count": 158,
     "metadata": {},
     "output_type": "execute_result"
    }
   ],
   "source": [
    "titles = pd.read_sql(sql, url)\n",
    "titles.head()"
   ]
  },
  {
   "cell_type": "code",
   "execution_count": 159,
   "id": "a04af6e9",
   "metadata": {},
   "outputs": [
    {
     "data": {
      "text/plain": [
       "(0.2665989299136619, 0.0)"
      ]
     },
     "execution_count": 159,
     "metadata": {},
     "output_type": "execute_result"
    }
   ],
   "source": [
    "corr, p = stats.pearsonr(titles.days_on_job, titles.title_count)\n",
    "\n",
    "corr, p"
   ]
  },
  {
   "cell_type": "markdown",
   "id": "97934f37",
   "metadata": {},
   "source": [
    "Use the sleepstudy data. Is there a relationship between days and reaction time?"
   ]
  },
  {
   "cell_type": "code",
   "execution_count": 110,
   "id": "24f7fd49",
   "metadata": {},
   "outputs": [
    {
     "data": {
      "text/html": [
       "<div>\n",
       "<style scoped>\n",
       "    .dataframe tbody tr th:only-of-type {\n",
       "        vertical-align: middle;\n",
       "    }\n",
       "\n",
       "    .dataframe tbody tr th {\n",
       "        vertical-align: top;\n",
       "    }\n",
       "\n",
       "    .dataframe thead th {\n",
       "        text-align: right;\n",
       "    }\n",
       "</style>\n",
       "<table border=\"1\" class=\"dataframe\">\n",
       "  <thead>\n",
       "    <tr style=\"text-align: right;\">\n",
       "      <th></th>\n",
       "      <th>Reaction</th>\n",
       "      <th>Days</th>\n",
       "      <th>Subject</th>\n",
       "    </tr>\n",
       "  </thead>\n",
       "  <tbody>\n",
       "    <tr>\n",
       "      <th>1</th>\n",
       "      <td>249.5600</td>\n",
       "      <td>0</td>\n",
       "      <td>308</td>\n",
       "    </tr>\n",
       "    <tr>\n",
       "      <th>2</th>\n",
       "      <td>258.7047</td>\n",
       "      <td>1</td>\n",
       "      <td>308</td>\n",
       "    </tr>\n",
       "    <tr>\n",
       "      <th>3</th>\n",
       "      <td>250.8006</td>\n",
       "      <td>2</td>\n",
       "      <td>308</td>\n",
       "    </tr>\n",
       "    <tr>\n",
       "      <th>4</th>\n",
       "      <td>321.4398</td>\n",
       "      <td>3</td>\n",
       "      <td>308</td>\n",
       "    </tr>\n",
       "    <tr>\n",
       "      <th>5</th>\n",
       "      <td>356.8519</td>\n",
       "      <td>4</td>\n",
       "      <td>308</td>\n",
       "    </tr>\n",
       "    <tr>\n",
       "      <th>...</th>\n",
       "      <td>...</td>\n",
       "      <td>...</td>\n",
       "      <td>...</td>\n",
       "    </tr>\n",
       "    <tr>\n",
       "      <th>176</th>\n",
       "      <td>329.6076</td>\n",
       "      <td>5</td>\n",
       "      <td>372</td>\n",
       "    </tr>\n",
       "    <tr>\n",
       "      <th>177</th>\n",
       "      <td>334.4818</td>\n",
       "      <td>6</td>\n",
       "      <td>372</td>\n",
       "    </tr>\n",
       "    <tr>\n",
       "      <th>178</th>\n",
       "      <td>343.2199</td>\n",
       "      <td>7</td>\n",
       "      <td>372</td>\n",
       "    </tr>\n",
       "    <tr>\n",
       "      <th>179</th>\n",
       "      <td>369.1417</td>\n",
       "      <td>8</td>\n",
       "      <td>372</td>\n",
       "    </tr>\n",
       "    <tr>\n",
       "      <th>180</th>\n",
       "      <td>364.1236</td>\n",
       "      <td>9</td>\n",
       "      <td>372</td>\n",
       "    </tr>\n",
       "  </tbody>\n",
       "</table>\n",
       "<p>180 rows × 3 columns</p>\n",
       "</div>"
      ],
      "text/plain": [
       "     Reaction  Days  Subject\n",
       "1    249.5600     0      308\n",
       "2    258.7047     1      308\n",
       "3    250.8006     2      308\n",
       "4    321.4398     3      308\n",
       "5    356.8519     4      308\n",
       "..        ...   ...      ...\n",
       "176  329.6076     5      372\n",
       "177  334.4818     6      372\n",
       "178  343.2199     7      372\n",
       "179  369.1417     8      372\n",
       "180  364.1236     9      372\n",
       "\n",
       "[180 rows x 3 columns]"
      ]
     },
     "execution_count": 110,
     "metadata": {},
     "output_type": "execute_result"
    }
   ],
   "source": [
    "from pydataset import data\n",
    "sleep = data(\"sleepstudy\")\n",
    "sleep"
   ]
  },
  {
   "cell_type": "code",
   "execution_count": 111,
   "id": "e9bb2cf2",
   "metadata": {},
   "outputs": [
    {
     "data": {
      "text/plain": [
       "<function matplotlib.pyplot.show(close=None, block=None)>"
      ]
     },
     "execution_count": 111,
     "metadata": {},
     "output_type": "execute_result"
    },
    {
     "data": {
      "image/png": "[encoded data removed]",
      "text/plain": [
       "<Figure size 540x540 with 9 Axes>"
      ]
     },
     "metadata": {
      "needs_background": "light"
     },
     "output_type": "display_data"
    }
   ],
   "source": [
    "sns.pairplot(sleep, corner = True)\n",
    "plt.show"
   ]
  },
  {
   "cell_type": "code",
   "execution_count": 112,
   "id": "4f5374ac",
   "metadata": {},
   "outputs": [
    {
     "data": {
      "text/plain": [
       "(0.5352302262650254, 9.89409632221453e-15)"
      ]
     },
     "execution_count": 112,
     "metadata": {},
     "output_type": "execute_result"
    }
   ],
   "source": [
    "corr, p = stats.pearsonr(sleep.Reaction, sleep.Days)\n",
    "corr, p"
   ]
  },
  {
   "cell_type": "markdown",
   "id": "2d5b52f9",
   "metadata": {},
   "source": [
    "#### Chi Square Exercises"
   ]
  },
  {
   "cell_type": "markdown",
   "id": "f500f6fd",
   "metadata": {},
   "source": [
    "Use the following contingency table to help answer the question of whether using a macbook and being a codeup student are independent of each other.\n",
    "\n",
    "                            Codeup Student\tNot Codeup Student\n",
    "           Uses a Macbook\t            49\t                20\n",
    "        \n",
    "    Doesn't Use A Macbook\t             1\t                30\n"
   ]
  },
  {
   "cell_type": "markdown",
   "id": "f2830f26",
   "metadata": {},
   "source": [
    "- $H_0$ is always that there is no association between the groups (they are independent)\n",
    "\n",
    "- $H_a$ is that there is an association (they are not independent) between the groups"
   ]
  },
  {
   "cell_type": "code",
   "execution_count": 163,
   "id": "663cc437",
   "metadata": {},
   "outputs": [
    {
     "name": "stdout",
     "output_type": "stream",
     "text": [
      "Observed\n",
      "                       CodeUp Student  Not a CodeUp Student\n",
      "Uses a Macbook                     49                    20\n",
      "Doesn't Use a Macbook               1                    30\n",
      "---\n",
      "Expected\n",
      "                       CodeUp Student  Not a CodeUp Student\n",
      "Uses a Macbook                   34.5                  34.5\n",
      "Doesn't Use a Macbook            15.5                  15.5\n",
      "---\n",
      "\n",
      "chi^2 = 39.3174\n",
      "p     = 0.0000\n",
      "degrees of freedom =  1\n"
     ]
    }
   ],
   "source": [
    "index = ['Uses a Macbook', 'Doesn\\'t Use a Macbook']\n",
    "columns = ['CodeUp Student', 'Not a CodeUp Student']\n",
    "\n",
    "observed = pd.DataFrame([[49, 20], [1, 30]], index=index, columns=columns)\n",
    "n = observed.values.sum()\n",
    "\n",
    "expected = pd.DataFrame([[.345, .345], [.155, .155]], index=index, columns=columns) * n\n",
    "\n",
    "chi2 = ((observed - expected)**2 / expected).values.sum()\n",
    "\n",
    "nrows, ncols = observed.shape\n",
    "\n",
    "degrees_of_freedom = (nrows - 1) * (ncols - 1)\n",
    "\n",
    "p = stats.chi2(degrees_of_freedom).sf(chi2)\n",
    "\n",
    "alpha = 0.05\n",
    "\n",
    "print('Observed')\n",
    "print(observed)\n",
    "print('---\\nExpected')\n",
    "print(expected)\n",
    "print('---\\n')\n",
    "print(f'chi^2 = {chi2:.4f}')\n",
    "print(f'p     = {p:.4f}')\n",
    "print('degrees of freedom = ', degrees_of_freedom)"
   ]
  },
  {
   "cell_type": "code",
   "execution_count": 165,
   "id": "7a240a5e",
   "metadata": {},
   "outputs": [
    {
     "name": "stdout",
     "output_type": "stream",
     "text": [
      "We reject the null hypothesis\n"
     ]
    }
   ],
   "source": [
    "if p < alpha:\n",
    "    print('We reject the null hypothesis')\n",
    "else:\n",
    "    print(\"we fail to reject the null hypothesis\")"
   ]
  },
  {
   "cell_type": "markdown",
   "id": "310c7e0d",
   "metadata": {},
   "source": [
    "Choose another 2 categorical variables from the mpg dataset and perform a Chi$^2$\n",
    " contingency table test with them. Be sure to state your null and alternative hypotheses.\n",
    "\n"
   ]
  },
  {
   "cell_type": "code",
   "execution_count": 166,
   "id": "975101ac",
   "metadata": {},
   "outputs": [
    {
     "data": {
      "text/html": [
       "<div>\n",
       "<style scoped>\n",
       "    .dataframe tbody tr th:only-of-type {\n",
       "        vertical-align: middle;\n",
       "    }\n",
       "\n",
       "    .dataframe tbody tr th {\n",
       "        vertical-align: top;\n",
       "    }\n",
       "\n",
       "    .dataframe thead th {\n",
       "        text-align: right;\n",
       "    }\n",
       "</style>\n",
       "<table border=\"1\" class=\"dataframe\">\n",
       "  <thead>\n",
       "    <tr style=\"text-align: right;\">\n",
       "      <th></th>\n",
       "      <th>1</th>\n",
       "      <th>2</th>\n",
       "    </tr>\n",
       "  </thead>\n",
       "  <tbody>\n",
       "    <tr>\n",
       "      <th>manufacturer</th>\n",
       "      <td>audi</td>\n",
       "      <td>audi</td>\n",
       "    </tr>\n",
       "    <tr>\n",
       "      <th>model</th>\n",
       "      <td>a4</td>\n",
       "      <td>a4</td>\n",
       "    </tr>\n",
       "    <tr>\n",
       "      <th>displ</th>\n",
       "      <td>1.8</td>\n",
       "      <td>1.8</td>\n",
       "    </tr>\n",
       "    <tr>\n",
       "      <th>year</th>\n",
       "      <td>1999</td>\n",
       "      <td>1999</td>\n",
       "    </tr>\n",
       "    <tr>\n",
       "      <th>cyl</th>\n",
       "      <td>4</td>\n",
       "      <td>4</td>\n",
       "    </tr>\n",
       "    <tr>\n",
       "      <th>trans</th>\n",
       "      <td>auto(l5)</td>\n",
       "      <td>manual(m5)</td>\n",
       "    </tr>\n",
       "    <tr>\n",
       "      <th>drv</th>\n",
       "      <td>f</td>\n",
       "      <td>f</td>\n",
       "    </tr>\n",
       "    <tr>\n",
       "      <th>cty</th>\n",
       "      <td>18</td>\n",
       "      <td>21</td>\n",
       "    </tr>\n",
       "    <tr>\n",
       "      <th>hwy</th>\n",
       "      <td>29</td>\n",
       "      <td>29</td>\n",
       "    </tr>\n",
       "    <tr>\n",
       "      <th>fl</th>\n",
       "      <td>p</td>\n",
       "      <td>p</td>\n",
       "    </tr>\n",
       "    <tr>\n",
       "      <th>class</th>\n",
       "      <td>compact</td>\n",
       "      <td>compact</td>\n",
       "    </tr>\n",
       "  </tbody>\n",
       "</table>\n",
       "</div>"
      ],
      "text/plain": [
       "                     1           2\n",
       "manufacturer      audi        audi\n",
       "model               a4          a4\n",
       "displ              1.8         1.8\n",
       "year              1999        1999\n",
       "cyl                  4           4\n",
       "trans         auto(l5)  manual(m5)\n",
       "drv                  f           f\n",
       "cty                 18          21\n",
       "hwy                 29          29\n",
       "fl                   p           p\n",
       "class          compact     compact"
      ]
     },
     "execution_count": 166,
     "metadata": {},
     "output_type": "execute_result"
    }
   ],
   "source": [
    "mpg = data('mpg')\n",
    "mpg.head(2).T"
   ]
  },
  {
   "cell_type": "markdown",
   "id": "fae878f0",
   "metadata": {},
   "source": [
    "- $H_0$ is always that there is no association between the groups (they are independent)\n",
    "\n",
    "- $H_a$ is that there is an association (they are not independent) between the groups"
   ]
  },
  {
   "cell_type": "code",
   "execution_count": 174,
   "id": "da70880b",
   "metadata": {},
   "outputs": [
    {
     "data": {
      "text/plain": [
       "(dodge         37\n",
       " toyota        34\n",
       " volkswagen    27\n",
       " ford          25\n",
       " chevrolet     19\n",
       " audi          18\n",
       " hyundai       14\n",
       " subaru        14\n",
       " nissan        13\n",
       " honda          9\n",
       " jeep           8\n",
       " pontiac        5\n",
       " land rover     4\n",
       " mercury        4\n",
       " lincoln        3\n",
       " Name: manufacturer, dtype: int64,\n",
       " suv           62\n",
       " compact       47\n",
       " midsize       41\n",
       " subcompact    35\n",
       " pickup        33\n",
       " minivan       11\n",
       " 2seater        5\n",
       " Name: class, dtype: int64)"
      ]
     },
     "execution_count": 174,
     "metadata": {},
     "output_type": "execute_result"
    }
   ],
   "source": [
    "mpg.manufacturer.value_counts(), mpg['class'].value_counts()"
   ]
  },
  {
   "cell_type": "code",
   "execution_count": 175,
   "id": "31dcf015",
   "metadata": {},
   "outputs": [
    {
     "data": {
      "text/html": [
       "<div>\n",
       "<style scoped>\n",
       "    .dataframe tbody tr th:only-of-type {\n",
       "        vertical-align: middle;\n",
       "    }\n",
       "\n",
       "    .dataframe tbody tr th {\n",
       "        vertical-align: top;\n",
       "    }\n",
       "\n",
       "    .dataframe thead th {\n",
       "        text-align: right;\n",
       "    }\n",
       "</style>\n",
       "<table border=\"1\" class=\"dataframe\">\n",
       "  <thead>\n",
       "    <tr style=\"text-align: right;\">\n",
       "      <th>class</th>\n",
       "      <th>2seater</th>\n",
       "      <th>compact</th>\n",
       "      <th>midsize</th>\n",
       "      <th>minivan</th>\n",
       "      <th>pickup</th>\n",
       "      <th>subcompact</th>\n",
       "      <th>suv</th>\n",
       "    </tr>\n",
       "    <tr>\n",
       "      <th>manufacturer</th>\n",
       "      <th></th>\n",
       "      <th></th>\n",
       "      <th></th>\n",
       "      <th></th>\n",
       "      <th></th>\n",
       "      <th></th>\n",
       "      <th></th>\n",
       "    </tr>\n",
       "  </thead>\n",
       "  <tbody>\n",
       "    <tr>\n",
       "      <th>audi</th>\n",
       "      <td>0</td>\n",
       "      <td>15</td>\n",
       "      <td>3</td>\n",
       "      <td>0</td>\n",
       "      <td>0</td>\n",
       "      <td>0</td>\n",
       "      <td>0</td>\n",
       "    </tr>\n",
       "    <tr>\n",
       "      <th>chevrolet</th>\n",
       "      <td>5</td>\n",
       "      <td>0</td>\n",
       "      <td>5</td>\n",
       "      <td>0</td>\n",
       "      <td>0</td>\n",
       "      <td>0</td>\n",
       "      <td>9</td>\n",
       "    </tr>\n",
       "    <tr>\n",
       "      <th>dodge</th>\n",
       "      <td>0</td>\n",
       "      <td>0</td>\n",
       "      <td>0</td>\n",
       "      <td>11</td>\n",
       "      <td>19</td>\n",
       "      <td>0</td>\n",
       "      <td>7</td>\n",
       "    </tr>\n",
       "    <tr>\n",
       "      <th>ford</th>\n",
       "      <td>0</td>\n",
       "      <td>0</td>\n",
       "      <td>0</td>\n",
       "      <td>0</td>\n",
       "      <td>7</td>\n",
       "      <td>9</td>\n",
       "      <td>9</td>\n",
       "    </tr>\n",
       "    <tr>\n",
       "      <th>honda</th>\n",
       "      <td>0</td>\n",
       "      <td>0</td>\n",
       "      <td>0</td>\n",
       "      <td>0</td>\n",
       "      <td>0</td>\n",
       "      <td>9</td>\n",
       "      <td>0</td>\n",
       "    </tr>\n",
       "    <tr>\n",
       "      <th>hyundai</th>\n",
       "      <td>0</td>\n",
       "      <td>0</td>\n",
       "      <td>7</td>\n",
       "      <td>0</td>\n",
       "      <td>0</td>\n",
       "      <td>7</td>\n",
       "      <td>0</td>\n",
       "    </tr>\n",
       "    <tr>\n",
       "      <th>jeep</th>\n",
       "      <td>0</td>\n",
       "      <td>0</td>\n",
       "      <td>0</td>\n",
       "      <td>0</td>\n",
       "      <td>0</td>\n",
       "      <td>0</td>\n",
       "      <td>8</td>\n",
       "    </tr>\n",
       "    <tr>\n",
       "      <th>land rover</th>\n",
       "      <td>0</td>\n",
       "      <td>0</td>\n",
       "      <td>0</td>\n",
       "      <td>0</td>\n",
       "      <td>0</td>\n",
       "      <td>0</td>\n",
       "      <td>4</td>\n",
       "    </tr>\n",
       "    <tr>\n",
       "      <th>lincoln</th>\n",
       "      <td>0</td>\n",
       "      <td>0</td>\n",
       "      <td>0</td>\n",
       "      <td>0</td>\n",
       "      <td>0</td>\n",
       "      <td>0</td>\n",
       "      <td>3</td>\n",
       "    </tr>\n",
       "    <tr>\n",
       "      <th>mercury</th>\n",
       "      <td>0</td>\n",
       "      <td>0</td>\n",
       "      <td>0</td>\n",
       "      <td>0</td>\n",
       "      <td>0</td>\n",
       "      <td>0</td>\n",
       "      <td>4</td>\n",
       "    </tr>\n",
       "    <tr>\n",
       "      <th>nissan</th>\n",
       "      <td>0</td>\n",
       "      <td>2</td>\n",
       "      <td>7</td>\n",
       "      <td>0</td>\n",
       "      <td>0</td>\n",
       "      <td>0</td>\n",
       "      <td>4</td>\n",
       "    </tr>\n",
       "    <tr>\n",
       "      <th>pontiac</th>\n",
       "      <td>0</td>\n",
       "      <td>0</td>\n",
       "      <td>5</td>\n",
       "      <td>0</td>\n",
       "      <td>0</td>\n",
       "      <td>0</td>\n",
       "      <td>0</td>\n",
       "    </tr>\n",
       "    <tr>\n",
       "      <th>subaru</th>\n",
       "      <td>0</td>\n",
       "      <td>4</td>\n",
       "      <td>0</td>\n",
       "      <td>0</td>\n",
       "      <td>0</td>\n",
       "      <td>4</td>\n",
       "      <td>6</td>\n",
       "    </tr>\n",
       "    <tr>\n",
       "      <th>toyota</th>\n",
       "      <td>0</td>\n",
       "      <td>12</td>\n",
       "      <td>7</td>\n",
       "      <td>0</td>\n",
       "      <td>7</td>\n",
       "      <td>0</td>\n",
       "      <td>8</td>\n",
       "    </tr>\n",
       "    <tr>\n",
       "      <th>volkswagen</th>\n",
       "      <td>0</td>\n",
       "      <td>14</td>\n",
       "      <td>7</td>\n",
       "      <td>0</td>\n",
       "      <td>0</td>\n",
       "      <td>6</td>\n",
       "      <td>0</td>\n",
       "    </tr>\n",
       "  </tbody>\n",
       "</table>\n",
       "</div>"
      ],
      "text/plain": [
       "class         2seater  compact  midsize  minivan  pickup  subcompact  suv\n",
       "manufacturer                                                             \n",
       "audi                0       15        3        0       0           0    0\n",
       "chevrolet           5        0        5        0       0           0    9\n",
       "dodge               0        0        0       11      19           0    7\n",
       "ford                0        0        0        0       7           9    9\n",
       "honda               0        0        0        0       0           9    0\n",
       "hyundai             0        0        7        0       0           7    0\n",
       "jeep                0        0        0        0       0           0    8\n",
       "land rover          0        0        0        0       0           0    4\n",
       "lincoln             0        0        0        0       0           0    3\n",
       "mercury             0        0        0        0       0           0    4\n",
       "nissan              0        2        7        0       0           0    4\n",
       "pontiac             0        0        5        0       0           0    0\n",
       "subaru              0        4        0        0       0           4    6\n",
       "toyota              0       12        7        0       7           0    8\n",
       "volkswagen          0       14        7        0       0           6    0"
      ]
     },
     "execution_count": 175,
     "metadata": {},
     "output_type": "execute_result"
    }
   ],
   "source": [
    "observed = pd.crosstab(mpg.manufacturer, mpg['class'])\n",
    "observed"
   ]
  },
  {
   "cell_type": "code",
   "execution_count": 176,
   "id": "fdcde033",
   "metadata": {},
   "outputs": [],
   "source": [
    "alpha = 0.05\n",
    "\n",
    "chi2, p, degf, expected = stats.chi2_contingency(observed)"
   ]
  },
  {
   "cell_type": "code",
   "execution_count": 177,
   "id": "7f1f065d",
   "metadata": {},
   "outputs": [
    {
     "name": "stdout",
     "output_type": "stream",
     "text": [
      "Observed\n",
      "class         2seater  compact  midsize  minivan  pickup  subcompact  suv\n",
      "manufacturer                                                             \n",
      "audi                0       15        3        0       0           0    0\n",
      "chevrolet           5        0        5        0       0           0    9\n",
      "dodge               0        0        0       11      19           0    7\n",
      "ford                0        0        0        0       7           9    9\n",
      "honda               0        0        0        0       0           9    0\n",
      "hyundai             0        0        7        0       0           7    0\n",
      "jeep                0        0        0        0       0           0    8\n",
      "land rover          0        0        0        0       0           0    4\n",
      "lincoln             0        0        0        0       0           0    3\n",
      "mercury             0        0        0        0       0           0    4\n",
      "nissan              0        2        7        0       0           0    4\n",
      "pontiac             0        0        5        0       0           0    0\n",
      "subaru              0        4        0        0       0           4    6\n",
      "toyota              0       12        7        0       7           0    8\n",
      "volkswagen          0       14        7        0       0           6    0\n",
      "---\n",
      "Expected\n",
      "[[0.38461538 3.61538462 3.15384615 0.84615385 2.53846154 2.69230769\n",
      "  4.76923077]\n",
      " [0.40598291 3.81623932 3.32905983 0.89316239 2.67948718 2.84188034\n",
      "  5.03418803]\n",
      " [0.79059829 7.43162393 6.48290598 1.73931624 5.21794872 5.53418803\n",
      "  9.8034188 ]\n",
      " [0.53418803 5.02136752 4.38034188 1.17521368 3.52564103 3.73931624\n",
      "  6.62393162]\n",
      " [0.19230769 1.80769231 1.57692308 0.42307692 1.26923077 1.34615385\n",
      "  2.38461538]\n",
      " [0.2991453  2.81196581 2.45299145 0.65811966 1.97435897 2.09401709\n",
      "  3.70940171]\n",
      " [0.17094017 1.60683761 1.4017094  0.37606838 1.12820513 1.1965812\n",
      "  2.11965812]\n",
      " [0.08547009 0.8034188  0.7008547  0.18803419 0.56410256 0.5982906\n",
      "  1.05982906]\n",
      " [0.06410256 0.6025641  0.52564103 0.14102564 0.42307692 0.44871795\n",
      "  0.79487179]\n",
      " [0.08547009 0.8034188  0.7008547  0.18803419 0.56410256 0.5982906\n",
      "  1.05982906]\n",
      " [0.27777778 2.61111111 2.27777778 0.61111111 1.83333333 1.94444444\n",
      "  3.44444444]\n",
      " [0.10683761 1.0042735  0.87606838 0.23504274 0.70512821 0.74786325\n",
      "  1.32478632]\n",
      " [0.2991453  2.81196581 2.45299145 0.65811966 1.97435897 2.09401709\n",
      "  3.70940171]\n",
      " [0.72649573 6.82905983 5.95726496 1.5982906  4.79487179 5.08547009\n",
      "  9.00854701]\n",
      " [0.57692308 5.42307692 4.73076923 1.26923077 3.80769231 4.03846154\n",
      "  7.15384615]]\n",
      "---\n",
      "\n",
      "chi^2 = 464.3721\n",
      "p     = 0.0000\n",
      "degrees of freedom =  1\n"
     ]
    }
   ],
   "source": [
    "print('Observed')\n",
    "print(observed)\n",
    "print('---\\nExpected')\n",
    "print(expected)\n",
    "print('---\\n')\n",
    "print(f'chi^2 = {chi2:.4f}')\n",
    "print(f'p     = {p:.4f}')\n",
    "print('degrees of freedom = ', degrees_of_freedom)"
   ]
  },
  {
   "cell_type": "code",
   "execution_count": 178,
   "id": "017ba893",
   "metadata": {},
   "outputs": [
    {
     "name": "stdout",
     "output_type": "stream",
     "text": [
      "We reject the null hypothesis\n"
     ]
    }
   ],
   "source": [
    "if p < alpha:\n",
    "    print('We reject the null hypothesis')\n",
    "else:\n",
    "    print(\"we fail to reject the null hypothesis\")"
   ]
  },
  {
   "cell_type": "markdown",
   "id": "c289c3bd",
   "metadata": {},
   "source": [
    "Use the data from the employees database to answer these questions:\n",
    "\n",
    " - Is an employee's gender independent of whether an employee works in sales or marketing? (only look at current employees)"
   ]
  },
  {
   "cell_type": "code",
   "execution_count": 195,
   "id": "76e681bb",
   "metadata": {},
   "outputs": [],
   "source": [
    "def get_db_url(db_name):\n",
    "    from env import user, host, password\n",
    "    return f'mysql+pymysql://{user}:{password}@{host}/{db_name}'\n",
    "    \n",
    "\n",
    "url = get_db_url('employees')\n",
    "sql = \"\"\"\n",
    "SELECT employees.emp_no, employees.gender, dept_emp.dept_no, departments.dept_name\n",
    "FROM employees\n",
    "JOIN dept_emp ON employees.emp_no = dept_emp.emp_no\n",
    "JOIN departments ON dept_emp.dept_no = departments.dept_no\n",
    "WHERE dept_emp.to_date > curdate() AND (departments.dept_name = 'Sales' or departments.dept_name = 'Marketing');\n",
    "\"\"\""
   ]
  },
  {
   "cell_type": "code",
   "execution_count": 196,
   "id": "814ad691",
   "metadata": {},
   "outputs": [
    {
     "data": {
      "text/html": [
       "<div>\n",
       "<style scoped>\n",
       "    .dataframe tbody tr th:only-of-type {\n",
       "        vertical-align: middle;\n",
       "    }\n",
       "\n",
       "    .dataframe tbody tr th {\n",
       "        vertical-align: top;\n",
       "    }\n",
       "\n",
       "    .dataframe thead th {\n",
       "        text-align: right;\n",
       "    }\n",
       "</style>\n",
       "<table border=\"1\" class=\"dataframe\">\n",
       "  <thead>\n",
       "    <tr style=\"text-align: right;\">\n",
       "      <th></th>\n",
       "      <th>emp_no</th>\n",
       "      <th>gender</th>\n",
       "      <th>dept_no</th>\n",
       "      <th>dept_name</th>\n",
       "    </tr>\n",
       "  </thead>\n",
       "  <tbody>\n",
       "    <tr>\n",
       "      <th>0</th>\n",
       "      <td>10017</td>\n",
       "      <td>F</td>\n",
       "      <td>d001</td>\n",
       "      <td>Marketing</td>\n",
       "    </tr>\n",
       "    <tr>\n",
       "      <th>1</th>\n",
       "      <td>10058</td>\n",
       "      <td>M</td>\n",
       "      <td>d001</td>\n",
       "      <td>Marketing</td>\n",
       "    </tr>\n",
       "    <tr>\n",
       "      <th>2</th>\n",
       "      <td>10140</td>\n",
       "      <td>F</td>\n",
       "      <td>d001</td>\n",
       "      <td>Marketing</td>\n",
       "    </tr>\n",
       "    <tr>\n",
       "      <th>3</th>\n",
       "      <td>10228</td>\n",
       "      <td>F</td>\n",
       "      <td>d001</td>\n",
       "      <td>Marketing</td>\n",
       "    </tr>\n",
       "    <tr>\n",
       "      <th>4</th>\n",
       "      <td>10239</td>\n",
       "      <td>F</td>\n",
       "      <td>d001</td>\n",
       "      <td>Marketing</td>\n",
       "    </tr>\n",
       "  </tbody>\n",
       "</table>\n",
       "</div>"
      ],
      "text/plain": [
       "   emp_no gender dept_no  dept_name\n",
       "0   10017      F    d001  Marketing\n",
       "1   10058      M    d001  Marketing\n",
       "2   10140      F    d001  Marketing\n",
       "3   10228      F    d001  Marketing\n",
       "4   10239      F    d001  Marketing"
      ]
     },
     "execution_count": 196,
     "metadata": {},
     "output_type": "execute_result"
    }
   ],
   "source": [
    "employees = pd.read_sql(sql, url)\n",
    "employees.head()"
   ]
  },
  {
   "cell_type": "code",
   "execution_count": 197,
   "id": "3d607373",
   "metadata": {},
   "outputs": [
    {
     "data": {
      "text/plain": [
       "(M    31680\n",
       " F    20863\n",
       " Name: gender, dtype: int64,\n",
       " Sales        37701\n",
       " Marketing    14842\n",
       " Name: dept_name, dtype: int64)"
      ]
     },
     "execution_count": 197,
     "metadata": {},
     "output_type": "execute_result"
    }
   ],
   "source": [
    "employees.gender.value_counts(), employees.dept_name.value_counts()"
   ]
  },
  {
   "cell_type": "markdown",
   "id": "e31c33da",
   "metadata": {},
   "source": [
    "- $H_0$ is always that there is no association between the groups (they are independent)\n",
    "\n",
    "- $H_a$ is that there is an association (they are not independent) between the groups"
   ]
  },
  {
   "cell_type": "code",
   "execution_count": 198,
   "id": "82619993",
   "metadata": {},
   "outputs": [
    {
     "data": {
      "text/html": [
       "<div>\n",
       "<style scoped>\n",
       "    .dataframe tbody tr th:only-of-type {\n",
       "        vertical-align: middle;\n",
       "    }\n",
       "\n",
       "    .dataframe tbody tr th {\n",
       "        vertical-align: top;\n",
       "    }\n",
       "\n",
       "    .dataframe thead th {\n",
       "        text-align: right;\n",
       "    }\n",
       "</style>\n",
       "<table border=\"1\" class=\"dataframe\">\n",
       "  <thead>\n",
       "    <tr style=\"text-align: right;\">\n",
       "      <th>dept_name</th>\n",
       "      <th>Marketing</th>\n",
       "      <th>Sales</th>\n",
       "    </tr>\n",
       "    <tr>\n",
       "      <th>gender</th>\n",
       "      <th></th>\n",
       "      <th></th>\n",
       "    </tr>\n",
       "  </thead>\n",
       "  <tbody>\n",
       "    <tr>\n",
       "      <th>F</th>\n",
       "      <td>5864</td>\n",
       "      <td>14999</td>\n",
       "    </tr>\n",
       "    <tr>\n",
       "      <th>M</th>\n",
       "      <td>8978</td>\n",
       "      <td>22702</td>\n",
       "    </tr>\n",
       "  </tbody>\n",
       "</table>\n",
       "</div>"
      ],
      "text/plain": [
       "dept_name  Marketing  Sales\n",
       "gender                     \n",
       "F               5864  14999\n",
       "M               8978  22702"
      ]
     },
     "execution_count": 198,
     "metadata": {},
     "output_type": "execute_result"
    }
   ],
   "source": [
    "observed = pd.crosstab(employees.gender, employees.dept_name)\n",
    "observed"
   ]
  },
  {
   "cell_type": "code",
   "execution_count": 199,
   "id": "f912900b",
   "metadata": {},
   "outputs": [],
   "source": [
    "alpha = 0.05\n",
    "\n",
    "chi2, p, degf, expected = stats.chi2_contingency(observed)"
   ]
  },
  {
   "cell_type": "code",
   "execution_count": 200,
   "id": "b138525c",
   "metadata": {},
   "outputs": [
    {
     "name": "stdout",
     "output_type": "stream",
     "text": [
      "Observed\n",
      "dept_name  Marketing  Sales\n",
      "gender                     \n",
      "F               5864  14999\n",
      "M               8978  22702\n",
      "---\n",
      "Expected\n",
      "[[ 5893.2426013 14969.7573987]\n",
      " [ 8948.7573987 22731.2426013]]\n",
      "---\n",
      "\n",
      "chi^2 = 0.3240\n",
      "p     = 0.5692\n",
      "degrees of freedom =  1\n"
     ]
    }
   ],
   "source": [
    "print('Observed')\n",
    "print(observed)\n",
    "print('---\\nExpected')\n",
    "print(expected)\n",
    "print('---\\n')\n",
    "print(f'chi^2 = {chi2:.4f}')\n",
    "print(f'p     = {p:.4f}')\n",
    "print('degrees of freedom = ', degrees_of_freedom)"
   ]
  },
  {
   "cell_type": "code",
   "execution_count": 201,
   "id": "53380d45",
   "metadata": {},
   "outputs": [
    {
     "name": "stdout",
     "output_type": "stream",
     "text": [
      "we fail to reject the null hypothesis\n"
     ]
    }
   ],
   "source": [
    "if p < alpha:\n",
    "    print('We reject the null hypothesis')\n",
    "else:\n",
    "    print(\"we fail to reject the null hypothesis\")"
   ]
  },
  {
   "cell_type": "markdown",
   "id": "243768c9",
   "metadata": {},
   "source": [
    " - Is an employee's gender independent of whether or not they are or have been a manager?"
   ]
  },
  {
   "cell_type": "code",
   "execution_count": 223,
   "id": "9b2cb743",
   "metadata": {},
   "outputs": [],
   "source": [
    "def get_db_url(db_name):\n",
    "    from env import user, host, password\n",
    "    return f'mysql+pymysql://{user}:{password}@{host}/{db_name}'\n",
    "    \n",
    "\n",
    "url = get_db_url('employees')\n",
    "sql = \"\"\"\n",
    "SELECT employees.gender, dept_manager.dept_no\n",
    "FROM employees\n",
    "LEFT JOIN dept_manager ON employees.emp_no = dept_manager.emp_no;\n",
    "\"\"\""
   ]
  },
  {
   "cell_type": "code",
   "execution_count": 225,
   "id": "e4313333",
   "metadata": {},
   "outputs": [
    {
     "data": {
      "text/html": [
       "<div>\n",
       "<style scoped>\n",
       "    .dataframe tbody tr th:only-of-type {\n",
       "        vertical-align: middle;\n",
       "    }\n",
       "\n",
       "    .dataframe tbody tr th {\n",
       "        vertical-align: top;\n",
       "    }\n",
       "\n",
       "    .dataframe thead th {\n",
       "        text-align: right;\n",
       "    }\n",
       "</style>\n",
       "<table border=\"1\" class=\"dataframe\">\n",
       "  <thead>\n",
       "    <tr style=\"text-align: right;\">\n",
       "      <th></th>\n",
       "      <th>gender</th>\n",
       "      <th>dept_no</th>\n",
       "    </tr>\n",
       "  </thead>\n",
       "  <tbody>\n",
       "    <tr>\n",
       "      <th>0</th>\n",
       "      <td>M</td>\n",
       "      <td>0</td>\n",
       "    </tr>\n",
       "    <tr>\n",
       "      <th>1</th>\n",
       "      <td>F</td>\n",
       "      <td>0</td>\n",
       "    </tr>\n",
       "    <tr>\n",
       "      <th>2</th>\n",
       "      <td>M</td>\n",
       "      <td>0</td>\n",
       "    </tr>\n",
       "    <tr>\n",
       "      <th>3</th>\n",
       "      <td>M</td>\n",
       "      <td>0</td>\n",
       "    </tr>\n",
       "    <tr>\n",
       "      <th>4</th>\n",
       "      <td>M</td>\n",
       "      <td>0</td>\n",
       "    </tr>\n",
       "  </tbody>\n",
       "</table>\n",
       "</div>"
      ],
      "text/plain": [
       "  gender dept_no\n",
       "0      M       0\n",
       "1      F       0\n",
       "2      M       0\n",
       "3      M       0\n",
       "4      M       0"
      ]
     },
     "execution_count": 225,
     "metadata": {},
     "output_type": "execute_result"
    }
   ],
   "source": [
    "managers = pd.read_sql(sql, url)\n",
    "managers.fillna(0, inplace = True)\n",
    "managers.head()"
   ]
  },
  {
   "cell_type": "code",
   "execution_count": 226,
   "id": "23b4748c",
   "metadata": {},
   "outputs": [],
   "source": [
    "managers['is_manager'] = np.where(managers.dept_no == 0, 0, 1)"
   ]
  },
  {
   "cell_type": "code",
   "execution_count": 227,
   "id": "f6cd4c9e",
   "metadata": {},
   "outputs": [
    {
     "data": {
      "text/html": [
       "<div>\n",
       "<style scoped>\n",
       "    .dataframe tbody tr th:only-of-type {\n",
       "        vertical-align: middle;\n",
       "    }\n",
       "\n",
       "    .dataframe tbody tr th {\n",
       "        vertical-align: top;\n",
       "    }\n",
       "\n",
       "    .dataframe thead th {\n",
       "        text-align: right;\n",
       "    }\n",
       "</style>\n",
       "<table border=\"1\" class=\"dataframe\">\n",
       "  <thead>\n",
       "    <tr style=\"text-align: right;\">\n",
       "      <th></th>\n",
       "      <th>gender</th>\n",
       "      <th>dept_no</th>\n",
       "      <th>is_manager</th>\n",
       "    </tr>\n",
       "  </thead>\n",
       "  <tbody>\n",
       "    <tr>\n",
       "      <th>0</th>\n",
       "      <td>M</td>\n",
       "      <td>0</td>\n",
       "      <td>0</td>\n",
       "    </tr>\n",
       "    <tr>\n",
       "      <th>1</th>\n",
       "      <td>F</td>\n",
       "      <td>0</td>\n",
       "      <td>0</td>\n",
       "    </tr>\n",
       "    <tr>\n",
       "      <th>2</th>\n",
       "      <td>M</td>\n",
       "      <td>0</td>\n",
       "      <td>0</td>\n",
       "    </tr>\n",
       "    <tr>\n",
       "      <th>3</th>\n",
       "      <td>M</td>\n",
       "      <td>0</td>\n",
       "      <td>0</td>\n",
       "    </tr>\n",
       "    <tr>\n",
       "      <th>4</th>\n",
       "      <td>M</td>\n",
       "      <td>0</td>\n",
       "      <td>0</td>\n",
       "    </tr>\n",
       "  </tbody>\n",
       "</table>\n",
       "</div>"
      ],
      "text/plain": [
       "  gender dept_no  is_manager\n",
       "0      M       0           0\n",
       "1      F       0           0\n",
       "2      M       0           0\n",
       "3      M       0           0\n",
       "4      M       0           0"
      ]
     },
     "execution_count": 227,
     "metadata": {},
     "output_type": "execute_result"
    }
   ],
   "source": [
    "managers.head()"
   ]
  },
  {
   "cell_type": "code",
   "execution_count": 228,
   "id": "6457a6da",
   "metadata": {},
   "outputs": [
    {
     "data": {
      "text/plain": [
       "0    300000\n",
       "1        24\n",
       "Name: is_manager, dtype: int64"
      ]
     },
     "execution_count": 228,
     "metadata": {},
     "output_type": "execute_result"
    }
   ],
   "source": [
    "managers.is_manager.value_counts()"
   ]
  },
  {
   "cell_type": "markdown",
   "id": "15bad9d4",
   "metadata": {},
   "source": [
    "- $H_0$ is always that there is no association between the groups (they are independent)\n",
    "\n",
    "- $H_a$ is that there is an association (they are not independent) between the groups"
   ]
  },
  {
   "cell_type": "code",
   "execution_count": 229,
   "id": "81d88f00",
   "metadata": {},
   "outputs": [
    {
     "data": {
      "text/html": [
       "<div>\n",
       "<style scoped>\n",
       "    .dataframe tbody tr th:only-of-type {\n",
       "        vertical-align: middle;\n",
       "    }\n",
       "\n",
       "    .dataframe tbody tr th {\n",
       "        vertical-align: top;\n",
       "    }\n",
       "\n",
       "    .dataframe thead th {\n",
       "        text-align: right;\n",
       "    }\n",
       "</style>\n",
       "<table border=\"1\" class=\"dataframe\">\n",
       "  <thead>\n",
       "    <tr style=\"text-align: right;\">\n",
       "      <th>is_manager</th>\n",
       "      <th>0</th>\n",
       "      <th>1</th>\n",
       "    </tr>\n",
       "    <tr>\n",
       "      <th>gender</th>\n",
       "      <th></th>\n",
       "      <th></th>\n",
       "    </tr>\n",
       "  </thead>\n",
       "  <tbody>\n",
       "    <tr>\n",
       "      <th>F</th>\n",
       "      <td>120038</td>\n",
       "      <td>13</td>\n",
       "    </tr>\n",
       "    <tr>\n",
       "      <th>M</th>\n",
       "      <td>179962</td>\n",
       "      <td>11</td>\n",
       "    </tr>\n",
       "  </tbody>\n",
       "</table>\n",
       "</div>"
      ],
      "text/plain": [
       "is_manager       0   1\n",
       "gender                \n",
       "F           120038  13\n",
       "M           179962  11"
      ]
     },
     "execution_count": 229,
     "metadata": {},
     "output_type": "execute_result"
    }
   ],
   "source": [
    "observed = pd.crosstab(managers.gender, managers.is_manager)\n",
    "observed"
   ]
  },
  {
   "cell_type": "code",
   "execution_count": 230,
   "id": "8184aea2",
   "metadata": {},
   "outputs": [],
   "source": [
    "alpha = 0.05\n",
    "\n",
    "chi2, p, degf, expected = stats.chi2_contingency(observed)"
   ]
  },
  {
   "cell_type": "code",
   "execution_count": 231,
   "id": "1eea247c",
   "metadata": {},
   "outputs": [
    {
     "name": "stdout",
     "output_type": "stream",
     "text": [
      "Observed\n",
      "is_manager       0   1\n",
      "gender                \n",
      "F           120038  13\n",
      "M           179962  11\n",
      "---\n",
      "Expected\n",
      "[[1.20041397e+05 9.60331174e+00]\n",
      " [1.79958603e+05 1.43966883e+01]]\n",
      "---\n",
      "\n",
      "chi^2 = 1.4567\n",
      "p     = 0.2275\n",
      "degrees of freedom =  1\n"
     ]
    }
   ],
   "source": [
    "print('Observed')\n",
    "print(observed)\n",
    "print('---\\nExpected')\n",
    "print(expected)\n",
    "print('---\\n')\n",
    "print(f'chi^2 = {chi2:.4f}')\n",
    "print(f'p     = {p:.4f}')\n",
    "print('degrees of freedom = ', degrees_of_freedom)"
   ]
  },
  {
   "cell_type": "code",
   "execution_count": 232,
   "id": "7781d943",
   "metadata": {},
   "outputs": [
    {
     "name": "stdout",
     "output_type": "stream",
     "text": [
      "we fail to reject the null hypothesis\n"
     ]
    }
   ],
   "source": [
    "if p < alpha:\n",
    "    print('We reject the null hypothesis')\n",
    "else:\n",
    "    print(\"we fail to reject the null hypothesis\")"
   ]
  },
  {
   "cell_type": "code",
   "execution_count": null,
   "id": "f240b1b5",
   "metadata": {},
   "outputs": [],
   "source": []
  }
 ],
 "metadata": {
  "kernelspec": {
   "display_name": "Python 3 (ipykernel)",
   "language": "python",
   "name": "python3"
  },
  "language_info": {
   "codemirror_mode": {
    "name": "ipython",
    "version": 3
   },
   "file_extension": ".py",
   "mimetype": "text/x-python",
   "name": "python",
   "nbconvert_exporter": "python",
   "pygments_lexer": "ipython3",
   "version": "3.7.3"
  }
 },
 "nbformat": 4,
 "nbformat_minor": 5
}
