{
 "cells": [
  {
   "cell_type": "markdown",
   "id": "70481725",
   "metadata": {},
   "source": [
    "### Probability Distributions Exercises"
   ]
  },
  {
   "cell_type": "code",
   "execution_count": 3,
   "id": "f0a0705c",
   "metadata": {},
   "outputs": [],
   "source": [
    "import matplotlib.pyplot as plt\n",
    "import numpy as np\n",
    "import pandas as pd\n",
    "from scipy import stats\n",
    "#μ\n",
    "#σ\n",
    "#𝜆 "
   ]
  },
  {
   "cell_type": "markdown",
   "id": "59698311",
   "metadata": {},
   "source": [
    "1. A bank found that the average number of cars waiting during the noon hour at a drive-up window follows a Poisson distribution with a mean of 2 cars. Make a chart of this distribution and answer these questions concerning the probability of cars waiting at the drive-up window."
   ]
  },
  {
   "cell_type": "code",
   "execution_count": 9,
   "id": "022097c5",
   "metadata": {},
   "outputs": [
    {
     "data": {
      "image/png": "[encoded data removed]",
      "text/plain": [
       "<Figure size 432x288 with 1 Axes>"
      ]
     },
     "metadata": {
      "needs_background": "light"
     },
     "output_type": "display_data"
    }
   ],
   "source": [
    "𝜆 = 2\n",
    "stats.poisson(𝜆)\n",
    "\n",
    "x = np.arange(0, 15)\n",
    "y = stats.poisson(𝜆).pmf(x)\n",
    "\n",
    "plt.bar(x, y)\n",
    "plt.xlabel('No. of cars waiting at a drive-up during noon')\n",
    "plt.ylabel('P(x)')\n",
    "plt.title('Poisson Distribution $λ = 8$');"
   ]
  },
  {
   "cell_type": "markdown",
   "id": "7325d44d",
   "metadata": {},
   "source": [
    " - What is the probability that no cars drive up in the noon hour?"
   ]
  },
  {
   "cell_type": "code",
   "execution_count": 10,
   "id": "9c59a5d7",
   "metadata": {},
   "outputs": [
    {
     "data": {
      "text/plain": [
       "0.1353352832366127"
      ]
     },
     "execution_count": 10,
     "metadata": {},
     "output_type": "execute_result"
    }
   ],
   "source": [
    "stats.poisson(𝜆).pmf(0)"
   ]
  },
  {
   "cell_type": "markdown",
   "id": "f9c1f5a8",
   "metadata": {},
   "source": [
    " - What is the probability that 3 or more cars come through the drive through?"
   ]
  },
  {
   "cell_type": "code",
   "execution_count": 21,
   "id": "576b4fe3",
   "metadata": {},
   "outputs": [
    {
     "data": {
      "text/plain": [
       "0.32332358381693654"
      ]
     },
     "execution_count": 21,
     "metadata": {},
     "output_type": "execute_result"
    }
   ],
   "source": [
    "stats.poisson(𝜆).sf(2)"
   ]
  },
  {
   "cell_type": "markdown",
   "id": "c2bf4282",
   "metadata": {},
   "source": [
    " - How likely is it that the drive through gets at least 1 car?"
   ]
  },
  {
   "cell_type": "code",
   "execution_count": 23,
   "id": "468be92e",
   "metadata": {},
   "outputs": [
    {
     "data": {
      "text/plain": [
       "0.8646647167633873"
      ]
     },
     "execution_count": 23,
     "metadata": {},
     "output_type": "execute_result"
    }
   ],
   "source": [
    "1 - stats.poisson(𝜆).cdf(0)"
   ]
  },
  {
   "cell_type": "markdown",
   "id": "6261ddb0",
   "metadata": {},
   "source": [
    " - If I have a GPA of 3.5, what percentile am I in?"
   ]
  },
  {
   "cell_type": "code",
   "execution_count": null,
   "id": "79480391",
   "metadata": {},
   "outputs": [],
   "source": []
  },
  {
   "cell_type": "markdown",
   "id": "17639c6b",
   "metadata": {},
   "source": [
    "2. Grades of State University graduates are normally distributed with a mean of 3.0 and a standard deviation of .3. Calculate the following:"
   ]
  },
  {
   "cell_type": "code",
   "execution_count": 41,
   "id": "ef6161eb",
   "metadata": {},
   "outputs": [
    {
     "data": {
      "text/plain": [
       "<scipy.stats._distn_infrastructure.rv_frozen at 0x7fa484abf978>"
      ]
     },
     "execution_count": 41,
     "metadata": {},
     "output_type": "execute_result"
    }
   ],
   "source": [
    "μ = 3\n",
    "σ = .3\n",
    "\n",
    "grades = stats.norm(μ, σ)\n",
    "grades"
   ]
  },
  {
   "cell_type": "markdown",
   "id": "00b88aa7",
   "metadata": {},
   "source": [
    " - What grade point average is required to be in the top 5% of the graduating class?"
   ]
  },
  {
   "cell_type": "code",
   "execution_count": 25,
   "id": "6fbc24ad",
   "metadata": {},
   "outputs": [
    {
     "data": {
      "text/plain": [
       "3.4934560880854417"
      ]
     },
     "execution_count": 25,
     "metadata": {},
     "output_type": "execute_result"
    }
   ],
   "source": [
    "grades.isf(0.05)"
   ]
  },
  {
   "cell_type": "markdown",
   "id": "4c668fa7",
   "metadata": {},
   "source": [
    " - What GPA constitutes the bottom 15% of the class?"
   ]
  },
  {
   "cell_type": "code",
   "execution_count": 26,
   "id": "282feaa9",
   "metadata": {},
   "outputs": [
    {
     "data": {
      "text/plain": [
       "2.689069983151863"
      ]
     },
     "execution_count": 26,
     "metadata": {},
     "output_type": "execute_result"
    }
   ],
   "source": [
    "grades.ppf(0.15)"
   ]
  },
  {
   "cell_type": "markdown",
   "id": "33026ec8",
   "metadata": {},
   "source": [
    " - An eccentric alumnus left scholarship money for students in the third decile from the bottom of their class. Determine the range of the third decile. Would a student with a 2.8 grade point average qualify for this scholarship?"
   ]
  },
  {
   "cell_type": "code",
   "execution_count": 44,
   "id": "41bacff4",
   "metadata": {},
   "outputs": [
    {
     "name": "stdout",
     "output_type": "stream",
     "text": [
      "The bottom 2nd decile is: 2.7475136299281258 and the bottom 3rd is: 2.842679846187588\n"
     ]
    }
   ],
   "source": [
    "twentieth = grades.ppf(.20)\n",
    "thirtieth = grades.ppf(.30)\n",
    "print('The bottom 2nd decile is: {} and the bottom 3rd is: {}'.format(twentieth, thirtieth))"
   ]
  },
  {
   "cell_type": "markdown",
   "id": "321f1936",
   "metadata": {},
   "source": [
    "3. A marketing website has an average click-through rate of 2%. One day they observe 4326 visitors and 97 click-throughs. How likely is it that this many people or more click through?"
   ]
  },
  {
   "cell_type": "code",
   "execution_count": 51,
   "id": "4dae59f7",
   "metadata": {},
   "outputs": [
    {
     "data": {
      "text/plain": [
       "0.14211867659283192"
      ]
     },
     "execution_count": 51,
     "metadata": {},
     "output_type": "execute_result"
    }
   ],
   "source": [
    "𝜆 = .02 * 4326\n",
    "\n",
    "stats.poisson(𝜆).sf(96)"
   ]
  },
  {
   "cell_type": "code",
   "execution_count": 87,
   "id": "297a0d66",
   "metadata": {},
   "outputs": [
    {
     "data": {
      "text/plain": [
       "0.13975823631416445"
      ]
     },
     "execution_count": 87,
     "metadata": {},
     "output_type": "execute_result"
    }
   ],
   "source": [
    "n = 4326\n",
    "p = 0.02\n",
    "\n",
    "stats.binom(n, p).sf(96)"
   ]
  },
  {
   "cell_type": "markdown",
   "id": "ec738f80",
   "metadata": {},
   "source": [
    "4. You are working on some statistics homework consisting of 100 questions where all of the answers are a probability rounded to the hundreths place. Looking to save time, you put down random probabilities as the answer to each question.\n",
    "\n",
    " - What is the probability that at least one of your first 60 answers is correct?"
   ]
  },
  {
   "cell_type": "code",
   "execution_count": 53,
   "id": "1a923d5d",
   "metadata": {},
   "outputs": [
    {
     "data": {
      "text/plain": [
       "<scipy.stats._distn_infrastructure.rv_frozen at 0x7fa484d05dd8>"
      ]
     },
     "execution_count": 53,
     "metadata": {},
     "output_type": "execute_result"
    }
   ],
   "source": [
    "p = 1/100\n",
    "answers = 60\n",
    "\n",
    "homework = stats.binom(answers, p)\n",
    "homework"
   ]
  },
  {
   "cell_type": "code",
   "execution_count": 54,
   "id": "9ddb8c1c",
   "metadata": {},
   "outputs": [
    {
     "data": {
      "text/plain": [
       "0.45284335760923855"
      ]
     },
     "execution_count": 54,
     "metadata": {},
     "output_type": "execute_result"
    }
   ],
   "source": [
    "homework.sf(0)"
   ]
  },
  {
   "cell_type": "markdown",
   "id": "edc4c0c9",
   "metadata": {},
   "source": [
    "5. The codeup staff tends to get upset when the student break area is not cleaned up. Suppose that there's a 3% chance that any one student cleans the break area when they visit it, and, on any given day, about 90% of the 3 active cohorts of 22 students visit the break area. How likely is it that the break area gets cleaned up each day? How likely is it that it goes two days without getting cleaned up? All week?"
   ]
  },
  {
   "cell_type": "code",
   "execution_count": 57,
   "id": "9df8e68d",
   "metadata": {},
   "outputs": [],
   "source": [
    "p = 0.03\n",
    "students = round(22 * 3 * .9)\n",
    "\n",
    "breakroom = stats.binom(students, p)"
   ]
  },
  {
   "cell_type": "code",
   "execution_count": 58,
   "id": "8613e2c3",
   "metadata": {},
   "outputs": [
    {
     "data": {
      "text/plain": [
       "0.8342199288437352"
      ]
     },
     "execution_count": 58,
     "metadata": {},
     "output_type": "execute_result"
    }
   ],
   "source": [
    "breakroom.sf(0)"
   ]
  },
  {
   "cell_type": "code",
   "execution_count": 59,
   "id": "bc6207ae",
   "metadata": {},
   "outputs": [
    {
     "data": {
      "text/plain": [
       "0.26039429833919375"
      ]
     },
     "execution_count": 59,
     "metadata": {},
     "output_type": "execute_result"
    }
   ],
   "source": [
    "breakroom.sf(2)"
   ]
  },
  {
   "cell_type": "code",
   "execution_count": 60,
   "id": "fde8f838",
   "metadata": {},
   "outputs": [
    {
     "data": {
      "text/plain": [
       "0.00037132514429787144"
      ]
     },
     "execution_count": 60,
     "metadata": {},
     "output_type": "execute_result"
    }
   ],
   "source": [
    "breakroom.sf(7)"
   ]
  },
  {
   "cell_type": "markdown",
   "id": "e83cda6d",
   "metadata": {},
   "source": [
    "6. You want to get lunch at La Panaderia, but notice that the line is usually very long at lunchtime. After several weeks of careful observation, you notice that the average number of people in line when your lunch break starts is normally distributed with a mean of 15 and standard deviation of 3. If it takes 2 minutes for each person to order, and 10 minutes from ordering to getting your food, what is the likelihood that you have at least 15 minutes left to eat your food before you have to go back to class? Assume you have one hour for lunch, and ignore travel time to and from La Panaderia."
   ]
  },
  {
   "cell_type": "code",
   "execution_count": 62,
   "id": "13c3b57c",
   "metadata": {},
   "outputs": [
    {
     "data": {
      "text/plain": [
       "<scipy.stats._distn_infrastructure.rv_frozen at 0x7fa484b68550>"
      ]
     },
     "execution_count": 62,
     "metadata": {},
     "output_type": "execute_result"
    }
   ],
   "source": [
    "μ = 15\n",
    "σ = 3\n",
    "\n",
    "line = stats.norm(μ, σ)\n",
    "line"
   ]
  },
  {
   "cell_type": "code",
   "execution_count": 63,
   "id": "718b1ee0",
   "metadata": {},
   "outputs": [
    {
     "data": {
      "text/plain": [
       "0.6914624612740131"
      ]
     },
     "execution_count": 63,
     "metadata": {},
     "output_type": "execute_result"
    }
   ],
   "source": [
    "# 15 = 60 - 10 - 2 - 2x\n",
    "# x = 16.5\n",
    "line.cdf(16.5)"
   ]
  },
  {
   "cell_type": "markdown",
   "id": "d4436cd4",
   "metadata": {},
   "source": [
    "7. Connect to the employees database and find the average salary of current employees, along with the standard deviation. For the following questions, calculate the answer based on modeling the employees salaries with a normal distribution defined by the calculated mean and standard deviation then compare this answer to the actual values present in the salaries dataset.\n",
    "\n",
    " - What percent of employees earn less than 60,000?\n",
    " - What percent of employees earn more than 95,000?\n",
    " - What percent of employees earn between 65,000 and 80,000?\n",
    " - What do the top 5% of employees make?"
   ]
  },
  {
   "cell_type": "code",
   "execution_count": 69,
   "id": "c1c03a3e",
   "metadata": {},
   "outputs": [],
   "source": [
    "def get_db_url(db_name):\n",
    "    from env import user, host, password\n",
    "    return f'mysql+pymysql://{user}:{password}@{host}/{db_name}'"
   ]
  },
  {
   "cell_type": "code",
   "execution_count": 71,
   "id": "e6c5e0a3",
   "metadata": {},
   "outputs": [
    {
     "data": {
      "text/html": [
       "<div>\n",
       "<style scoped>\n",
       "    .dataframe tbody tr th:only-of-type {\n",
       "        vertical-align: middle;\n",
       "    }\n",
       "\n",
       "    .dataframe tbody tr th {\n",
       "        vertical-align: top;\n",
       "    }\n",
       "\n",
       "    .dataframe thead th {\n",
       "        text-align: right;\n",
       "    }\n",
       "</style>\n",
       "<table border=\"1\" class=\"dataframe\">\n",
       "  <thead>\n",
       "    <tr style=\"text-align: right;\">\n",
       "      <th></th>\n",
       "      <th>emp_no</th>\n",
       "      <th>salary</th>\n",
       "      <th>from_date</th>\n",
       "      <th>to_date</th>\n",
       "    </tr>\n",
       "  </thead>\n",
       "  <tbody>\n",
       "    <tr>\n",
       "      <th>0</th>\n",
       "      <td>10001</td>\n",
       "      <td>88958</td>\n",
       "      <td>2002-06-22</td>\n",
       "      <td>9999-01-01</td>\n",
       "    </tr>\n",
       "    <tr>\n",
       "      <th>1</th>\n",
       "      <td>10002</td>\n",
       "      <td>72527</td>\n",
       "      <td>2001-08-02</td>\n",
       "      <td>9999-01-01</td>\n",
       "    </tr>\n",
       "    <tr>\n",
       "      <th>2</th>\n",
       "      <td>10003</td>\n",
       "      <td>43311</td>\n",
       "      <td>2001-12-01</td>\n",
       "      <td>9999-01-01</td>\n",
       "    </tr>\n",
       "    <tr>\n",
       "      <th>3</th>\n",
       "      <td>10004</td>\n",
       "      <td>74057</td>\n",
       "      <td>2001-11-27</td>\n",
       "      <td>9999-01-01</td>\n",
       "    </tr>\n",
       "    <tr>\n",
       "      <th>4</th>\n",
       "      <td>10005</td>\n",
       "      <td>94692</td>\n",
       "      <td>2001-09-09</td>\n",
       "      <td>9999-01-01</td>\n",
       "    </tr>\n",
       "  </tbody>\n",
       "</table>\n",
       "</div>"
      ],
      "text/plain": [
       "   emp_no  salary   from_date     to_date\n",
       "0   10001   88958  2002-06-22  9999-01-01\n",
       "1   10002   72527  2001-08-02  9999-01-01\n",
       "2   10003   43311  2001-12-01  9999-01-01\n",
       "3   10004   74057  2001-11-27  9999-01-01\n",
       "4   10005   94692  2001-09-09  9999-01-01"
      ]
     },
     "execution_count": 71,
     "metadata": {},
     "output_type": "execute_result"
    }
   ],
   "source": [
    "url = get_db_url('employees')\n",
    "sql = \"\"\"\n",
    "SELECT * FROM salaries\n",
    "WHERE to_date LIKE '9%%';\n",
    "\"\"\"\n",
    "salaries = pd.read_sql(sql, url)\n",
    "salaries.head()"
   ]
  },
  {
   "cell_type": "code",
   "execution_count": 76,
   "id": "e3d9ac59",
   "metadata": {},
   "outputs": [],
   "source": [
    "μ = salaries.salary.mean()\n",
    "σ = salaries.salary.std()\n",
    "\n",
    "salaries_prob = stats.norm(μ, σ)"
   ]
  },
  {
   "cell_type": "markdown",
   "id": "45bc5083",
   "metadata": {},
   "source": [
    " - What percent of employees earn less than 60,000?"
   ]
  },
  {
   "cell_type": "code",
   "execution_count": 77,
   "id": "e613582d",
   "metadata": {},
   "outputs": [
    {
     "data": {
      "text/plain": [
       "0.24385742480214423"
      ]
     },
     "execution_count": 77,
     "metadata": {},
     "output_type": "execute_result"
    }
   ],
   "source": [
    "salaries_prob.cdf(60000)"
   ]
  },
  {
   "cell_type": "markdown",
   "id": "8df8b542",
   "metadata": {},
   "source": [
    " - What percent of employees earn more than 95,000?"
   ]
  },
  {
   "cell_type": "code",
   "execution_count": 78,
   "id": "1cbfb5fe",
   "metadata": {},
   "outputs": [
    {
     "data": {
      "text/plain": [
       "0.09208819199804053"
      ]
     },
     "execution_count": 78,
     "metadata": {},
     "output_type": "execute_result"
    }
   ],
   "source": [
    "salaries_prob.sf(95000)"
   ]
  },
  {
   "cell_type": "markdown",
   "id": "9a31ca38",
   "metadata": {},
   "source": [
    " - What percent of employees earn between 65,000 and 80,000?"
   ]
  },
  {
   "cell_type": "code",
   "execution_count": 86,
   "id": "7d6452ae",
   "metadata": {},
   "outputs": [],
   "source": [
    "sixty_five = salaries_prob.cdf(65000)\n",
    "eighty = salaries_prob.cdf(80000)"
   ]
  },
  {
   "cell_type": "code",
   "execution_count": 85,
   "id": "345dc580",
   "metadata": {},
   "outputs": [
    {
     "data": {
      "text/plain": [
       "0.34270292195065144"
      ]
     },
     "execution_count": 85,
     "metadata": {},
     "output_type": "execute_result"
    }
   ],
   "source": [
    "sixty_five"
   ]
  },
  {
   "cell_type": "code",
   "execution_count": 84,
   "id": "ba4ec9a1",
   "metadata": {},
   "outputs": [
    {
     "data": {
      "text/plain": [
       "0.677763490495318"
      ]
     },
     "execution_count": 84,
     "metadata": {},
     "output_type": "execute_result"
    }
   ],
   "source": [
    "eighty"
   ]
  },
  {
   "cell_type": "code",
   "execution_count": 88,
   "id": "67840ab3",
   "metadata": {},
   "outputs": [
    {
     "data": {
      "text/plain": [
       "array([0.34270292, 0.67776349])"
      ]
     },
     "execution_count": 88,
     "metadata": {},
     "output_type": "execute_result"
    }
   ],
   "source": [
    "salaries_prob.cdf([65000, 80000])"
   ]
  },
  {
   "cell_type": "markdown",
   "id": "3346362f",
   "metadata": {},
   "source": [
    " - What do the top 5% of employees make?"
   ]
  },
  {
   "cell_type": "code",
   "execution_count": null,
   "id": "c476acdc",
   "metadata": {},
   "outputs": [],
   "source": []
  },
  {
   "cell_type": "code",
   "execution_count": 79,
   "id": "a8743d84",
   "metadata": {},
   "outputs": [
    {
     "data": {
      "text/plain": [
       "100484.64454102777"
      ]
     },
     "execution_count": 79,
     "metadata": {},
     "output_type": "execute_result"
    }
   ],
   "source": [
    "salaries_prob.isf(.05)"
   ]
  },
  {
   "cell_type": "code",
   "execution_count": null,
   "id": "d57d17ee",
   "metadata": {},
   "outputs": [],
   "source": []
  }
 ],
 "metadata": {
  "kernelspec": {
   "display_name": "Python 3 (ipykernel)",
   "language": "python",
   "name": "python3"
  },
  "language_info": {
   "codemirror_mode": {
    "name": "ipython",
    "version": 3
   },
   "file_extension": ".py",
   "mimetype": "text/x-python",
   "name": "python",
   "nbconvert_exporter": "python",
   "pygments_lexer": "ipython3",
   "version": "3.7.3"
  }
 },
 "nbformat": 4,
 "nbformat_minor": 5
}
