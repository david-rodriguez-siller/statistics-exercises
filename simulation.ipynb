{
 "cells": [
  {
   "cell_type": "markdown",
   "id": "af72f345",
   "metadata": {},
   "source": [
    "## Simulation Exercises"
   ]
  },
  {
   "cell_type": "code",
   "execution_count": 1,
   "id": "3bf5d4c3",
   "metadata": {},
   "outputs": [],
   "source": [
    "%matplotlib inline\n",
    "import numpy as np\n",
    "import pandas as pd\n",
    "\n",
    "import viz"
   ]
  },
  {
   "cell_type": "markdown",
   "id": "30f31904",
   "metadata": {},
   "source": [
    "1. How likely is it that you roll doubles when rolling two dice?"
   ]
  },
  {
   "cell_type": "code",
   "execution_count": 4,
   "id": "0bc142f3",
   "metadata": {},
   "outputs": [
    {
     "name": "stdout",
     "output_type": "stream",
     "text": [
      "The likelihood of rolling doubles when rolling two dice is: 0.166263\n"
     ]
    }
   ],
   "source": [
    "outcomes = [1, 2, 3, 4, 5, 6]\n",
    "simulations = 1000000\n",
    "first = np.random.choice(outcomes, simulations)\n",
    "second = np.random.choice(outcomes, simulations)\n",
    "\n",
    "likelihood = first == second\n",
    "print('The likelihood of rolling doubles when rolling two dice is: {}'.format(likelihood.mean()))"
   ]
  },
  {
   "cell_type": "markdown",
   "id": "35a6ac3c",
   "metadata": {},
   "source": [
    "2. If you flip 8 coins, what is the probability of getting exactly 3 heads? What is the probability of getting more than 3 heads?"
   ]
  },
  {
   "cell_type": "code",
   "execution_count": 31,
   "id": "371e3c9c",
   "metadata": {},
   "outputs": [
    {
     "name": "stdout",
     "output_type": "stream",
     "text": [
      "The probability of getting exactly 3 heads if 8 coins are flipped is: 0.21821\n"
     ]
    }
   ],
   "source": [
    "simulations = 1000000\n",
    "n_coins = 8\n",
    "outcomes = ['h', 't']\n",
    "\n",
    "flips = np.random.choice(outcomes, size = (simulations, n_coins))\n",
    "\n",
    "three_heads = (np.count_nonzero(flips == 'h', axis = 1) == 3).mean()\n",
    "\n",
    "print('The probability of getting exactly 3 heads if 8 coins are flipped is: {}'.format(three_heads))"
   ]
  },
  {
   "cell_type": "code",
   "execution_count": 34,
   "id": "76fe6523",
   "metadata": {},
   "outputs": [
    {
     "name": "stdout",
     "output_type": "stream",
     "text": [
      "The probability of getting more than 3 heads if 8 coins are flipped is: 0.637054\n"
     ]
    }
   ],
   "source": [
    "more_than_three_heads = (np.count_nonzero(flips == 'h', axis = 1) > 3).mean()\n",
    "print('The probability of getting more than 3 heads if 8 coins are flipped is: {}'.format(more_than_three_heads))"
   ]
  },
  {
   "cell_type": "markdown",
   "id": "2773915d",
   "metadata": {},
   "source": [
    "3. There are approximitely 3 web development cohorts for every 1 data science cohort at Codeup. Assuming that Codeup randomly selects an alumni to put on a billboard, what are the odds that the two billboards I drive past both have data science students on them?"
   ]
  },
  {
   "cell_type": "code",
   "execution_count": 35,
   "id": "3c541b86",
   "metadata": {},
   "outputs": [
    {
     "name": "stdout",
     "output_type": "stream",
     "text": [
      "The odds of both billboards having data science students is: 0.062539\n"
     ]
    }
   ],
   "source": [
    "simulations = 1000000\n",
    "outcomes = ['wd', 'wd', 'wd', 'ds']\n",
    "n_billboards = 2\n",
    "\n",
    "billboards = np.random.choice(outcomes, size = (simulations, n_billboards))\n",
    "\n",
    "two_billboards = (np.count_nonzero(billboards == 'ds', axis = 1) == 2).mean()\n",
    "\n",
    "print('The odds of both billboards having data science students is: {}'.format(two_billboards))"
   ]
  },
  {
   "cell_type": "markdown",
   "id": "0f0881fa",
   "metadata": {},
   "source": [
    "4. Codeup students buy, on average, 3 poptart packages with a standard deviation of 1.5 a day from the snack vending machine. If on monday the machine is restocked with 17 poptart packages, how likely is it that I will be able to buy some poptarts on Friday afternoon? (Remember, if you have mean and standard deviation, use the np.random.normal)"
   ]
  },
  {
   "cell_type": "code",
   "execution_count": 30,
   "id": "c62935b2",
   "metadata": {},
   "outputs": [
    {
     "name": "stdout",
     "output_type": "stream",
     "text": [
      "The likelihood of buying poptarts on a Friday afternoon is: 0.72395\n"
     ]
    }
   ],
   "source": [
    "simulations = 1000000\n",
    "n_poptarts = 3\n",
    "n_days = 5\n",
    "std_dev = 1.5\n",
    "\n",
    "p_poptarts = np.random.normal(n_poptarts, std_dev, size = (simulations, n_days))\n",
    "\n",
    "w_poptarts = p_poptarts.sum(axis = 1).astype(int)\n",
    "\n",
    "poptarts = (w_poptarts <= 16).mean()\n",
    "\n",
    "print('The likelihood of buying poptarts on a Friday afternoon is: {}'.format(poptarts))"
   ]
  },
  {
   "cell_type": "markdown",
   "id": "a7c50403",
   "metadata": {},
   "source": [
    "5. Compare Heights\n",
    "\n",
    " - Men have an average height of 178 cm and standard deviation of 8cm.\n",
    " - Women have a mean of 170, sd = 6cm.\n",
    " - Since you have means and standard deviations, you can use np.random.normal to generate observations.\n",
    " - If a man and woman are chosen at random, P(woman taller than man)?"
   ]
  },
  {
   "cell_type": "code",
   "execution_count": 38,
   "id": "7e7fb25c",
   "metadata": {},
   "outputs": [
    {
     "name": "stdout",
     "output_type": "stream",
     "text": [
      "The probability of a randomly chosen woman being taller than a randomly chosen man is: 0.211983\n"
     ]
    }
   ],
   "source": [
    "simulations = 1000000\n",
    "m_std_dev = 8\n",
    "f_std_dev = 6\n",
    "m_height = 178\n",
    "f_height = 170\n",
    "\n",
    "random_man = np.random.normal(m_height, m_std_dev, simulations)\n",
    "random_woman = np.random.normal(f_height, f_std_dev, simulations)\n",
    "\n",
    "height_comparison = (random_man < random_woman).mean()\n",
    "\n",
    "print('The probability of a randomly chosen woman being taller than a randomly chosen man is: {}'.format(height_comparison))"
   ]
  },
  {
   "cell_type": "markdown",
   "id": "9f81eda0",
   "metadata": {},
   "source": [
    "6. When installing anaconda on a student's computer, there's a 1 in 250 chance that the download is corrupted and the installation fails. What are the odds that after having 50 students download anaconda, no one has an installation issue? 100 students?\n",
    "\n",
    " What is the probability that we observe an installation issue within the first 150 students that download anaconda?\n",
    "\n",
    " How likely is it that 450 students all download anaconda without an issue?"
   ]
  },
  {
   "cell_type": "code",
   "execution_count": 202,
   "id": "20195051",
   "metadata": {},
   "outputs": [
    {
     "name": "stdout",
     "output_type": "stream",
     "text": [
      "The probability of a successful install for fifty students is: 0.9960078\n"
     ]
    }
   ],
   "source": [
    "outcomes = ['successful', 'unsuccessful']\n",
    "simulations = 1000000\n",
    "\n",
    "fifty_installs = (np.random.choice(outcomes, size = (simulations, 50), p = [249/250, 1/250]) == 'successful').mean()\n",
    "\n",
    "print('The probability of a successful install for fifty students is: {}'.format(fifty_installs))"
   ]
  },
  {
   "cell_type": "code",
   "execution_count": 203,
   "id": "037b5dc5",
   "metadata": {},
   "outputs": [
    {
     "name": "stdout",
     "output_type": "stream",
     "text": [
      "The probability of a successful install for one hundred students is: 0.99599818\n"
     ]
    }
   ],
   "source": [
    "hundred_installs = (np.random.choice(outcomes, size = (simulations, 100), p = [249/250, 1/250]) == 'successful').mean()\n",
    "\n",
    "print('The probability of a successful install for one hundred students is: {}'.format(hundred_installs))"
   ]
  },
  {
   "cell_type": "code",
   "execution_count": 204,
   "id": "5111a6c9",
   "metadata": {},
   "outputs": [
    {
     "name": "stdout",
     "output_type": "stream",
     "text": [
      "The probability of an unsuccessful install for one-hundred and fifty students is: 0.0040025\n"
     ]
    }
   ],
   "source": [
    "hundredfifty_installs = (np.random.choice(outcomes, size = (simulations, 150), p = [249/250, 1/250]) == 'unsuccessful').mean()\n",
    "\n",
    "print('The probability of an unsuccessful install for one-hundred and fifty students is: {}'.format(hundredfifty_installs))"
   ]
  },
  {
   "cell_type": "code",
   "execution_count": 205,
   "id": "2f20ffba",
   "metadata": {},
   "outputs": [
    {
     "name": "stdout",
     "output_type": "stream",
     "text": [
      "The probability of a successful install for four-hundred and fifty students is: 0.9959984955555555\n"
     ]
    }
   ],
   "source": [
    "fourhundredfifty_installs = (np.random.choice(outcomes, size = (simulations, 450), p = [249/250, 1/250]) == 'successful').mean()\n",
    "\n",
    "print('The probability of a successful install for four-hundred and fifty students is: {}'.format(fourhundredfifty_installs))"
   ]
  },
  {
   "cell_type": "markdown",
   "id": "b4bc9f36",
   "metadata": {},
   "source": [
    "7. There's a 70% chance on any given day that there will be at least one food truck at Travis Park. However, you haven't seen a food truck there in 3 days. How unlikely is this?\n",
    "\n",
    " How likely is it that a food truck will show up sometime this week?"
   ]
  },
  {
   "cell_type": "code",
   "execution_count": 214,
   "id": "8b8b901d",
   "metadata": {},
   "outputs": [
    {
     "name": "stdout",
     "output_type": "stream",
     "text": [
      "The probability that the food truck will not show up for 3 days straight is: 0.027191\n"
     ]
    }
   ],
   "source": [
    "outcome = ['food truck', 'no food truck']\n",
    "simulations = 1000000\n",
    "\n",
    "show_or_no = np.random.choice(outcome, size = (simulations, 3), p = [.7, .3])\n",
    "\n",
    "food_truck = (np.count_nonzero(show_or_no == 'no food truck', axis = 1) == 3).mean()\n",
    "\n",
    "print('The probability that the food truck will not show up for 3 days straight is: {}'.format(food_truck))"
   ]
  },
  {
   "cell_type": "code",
   "execution_count": 217,
   "id": "4a88c728",
   "metadata": {},
   "outputs": [
    {
     "name": "stdout",
     "output_type": "stream",
     "text": [
      "The probability that the food truck will show up during the rest of the week is: 0.991874\n"
     ]
    }
   ],
   "source": [
    "show_or_no = np.random.choice(outcome, size = (simulations, 4), p = [.7, .3])\n",
    "\n",
    "food_truck = (np.count_nonzero(show_or_no == 'food truck', axis = 1) >= 1).mean()\n",
    "\n",
    "print('The probability that the food truck will show up during the rest of the week is: {}'.format(food_truck))"
   ]
  },
  {
   "cell_type": "markdown",
   "id": "4c94dfdb",
   "metadata": {},
   "source": [
    "8. If 23 people are in the same room, what are the odds that two of them share a birthday? What if it's 20 people? 40?"
   ]
  },
  {
   "cell_type": "code",
   "execution_count": 248,
   "id": "0ff88047",
   "metadata": {},
   "outputs": [],
   "source": [
    "people = 23\n",
    "simulations = 1000000\n",
    "\n"
   ]
  },
  {
   "cell_type": "code",
   "execution_count": null,
   "id": "143a6db1",
   "metadata": {},
   "outputs": [],
   "source": []
  },
  {
   "cell_type": "code",
   "execution_count": null,
   "id": "21dda271",
   "metadata": {},
   "outputs": [],
   "source": []
  },
  {
   "cell_type": "code",
   "execution_count": null,
   "id": "757c1cf8",
   "metadata": {},
   "outputs": [],
   "source": []
  }
 ],
 "metadata": {
  "kernelspec": {
   "display_name": "Python 3 (ipykernel)",
   "language": "python",
   "name": "python3"
  },
  "language_info": {
   "codemirror_mode": {
    "name": "ipython",
    "version": 3
   },
   "file_extension": ".py",
   "mimetype": "text/x-python",
   "name": "python",
   "nbconvert_exporter": "python",
   "pygments_lexer": "ipython3",
   "version": "3.7.3"
  }
 },
 "nbformat": 4,
 "nbformat_minor": 5
}
